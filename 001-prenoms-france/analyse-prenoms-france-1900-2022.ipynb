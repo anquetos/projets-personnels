{
 "cells": [
  {
   "cell_type": "code",
   "execution_count": 1,
   "metadata": {},
   "outputs": [],
   "source": [
    "# Importe les modules\n",
    "import numpy as np\n",
    "import pandas as pd\n",
    "\n",
    "import matplotlib.pyplot as plt\n",
    "import matplotlib.ticker as ticker"
   ]
  },
  {
   "attachments": {},
   "cell_type": "markdown",
   "metadata": {},
   "source": [
    "#  Analyse des prénoms en France entre 1900 et 2022"
   ]
  },
  {
   "attachments": {},
   "cell_type": "markdown",
   "metadata": {},
   "source": [
    "## Sommaire"
   ]
  },
  {
   "cell_type": "markdown",
   "metadata": {},
   "source": [
    "* [Informations](#1)\n",
    "* [Vérification et prétraitement](#2)\n",
    "* [Analyse descriptive](#3)\n",
    "    * [Informations générales](#3-1)\n",
    "    * [Tops 10](#3-2)\n",
    "    * [Evolution des prénoms](#3-3)\n",
    "    * [Dispersion](#3-4)\n",
    "    * [Répartition](#3-5)\n",
    "* [Outils intéractifs INSEE](#4)\n",
    "    * [Classement](#4-1)\n",
    "    * [Graphique](#4-2)\n",
    "* [Recherches](#5)"
   ]
  },
  {
   "attachments": {},
   "cell_type": "markdown",
   "metadata": {},
   "source": [
    "## Informations<a id='1'></a>"
   ]
  },
  {
   "attachments": {},
   "cell_type": "markdown",
   "metadata": {},
   "source": [
    "* Source : INSEE\n",
    "* Fichier paru le : 04/07/2023\n",
    "\n",
    "Le fichier des prénoms contient des données sur les prénoms attribués aux enfants nés en France entre 1900 et 2022 (les données avant 2012 ne concernent que France hors Mayotte) et les effectifs par sexe associés à chaque prénom. Ces données sont disponibles au niveau France et par département.\n",
    "\n",
    "&#x26A0; Le fichier des prénoms est établi à partir des seuls bulletins de naissance des personnes nées en France (métropole et départements d’outre-mer). En conséquence, l’exhaustivité n’est pas garantie sur toute la période, notamment pour les années antérieures à 1946. Les utilisateurs pourront donc constater des écarts avec le nombre annuel des naissances évalué par l'Insee. Ces écarts, importants en début de période, vont en s’amenuisant. Après 1946, ils sont peu significatifs.\n",
    "\n",
    "Pour chaque prénom, il est indiqué pour chaque année de naissance (de 1900 à 2022) et chaque sexe, le nombre de personnes inscrites à l'état civil sous ce prénom. Pour le fichier « DPT2022 », la précision est apportée pour chaque département.\n",
    "\n",
    "**Les personnes prises en compte**\n",
    "\n",
    "Le champ couvre l'ensemble des personnes nées en France (y compris Mayotte à partir de 2013) et enregistrées à l'état civil sur les bulletins de naissance. Les personnes nées à l'étranger sont exclues.\n",
    "\n",
    "**Le champ des prénoms retenus**\n",
    "\n",
    "Dans les fichiers de l’état civil, en l'occurrence les bulletins de naissance, les différents prénoms sont séparés par une espace (ou blanc). Ainsi deux prénoms séparés par un tiret constituent un seul prénom composé (exemple : Anne-Laure). Le premier prénom simple ou composé figure en début de liste, et c'est celui qui sera retenu après le traitement de la protection de l'anonymat.\n",
    "\n",
    "**Conditions portant sur les prénoms retenus**\n",
    "\n",
    "1. Sur la période allant de 1900 à 1945, le prénom a été attribué au moins 20 fois à des personnes de sexe féminin et/ou au moins 20 fois à des personnes de sexe masculin.\n",
    "2. Sur la période allant de 1946 à 2021, le prénom a été attribué au moins 20 fois à des personnes de sexe féminin et/ou au moins 20 fois à des personnes de sexe masculin.\n",
    "3. Pour une année de naissance donnée, le prénom a été attribué au moins 3 fois à des personnes de sexe féminin ou de sexe masculin.\n",
    "\n",
    "Les effectifs des prénoms ne remplissant pas les conditions 1 et 2 sont regroupés (pour chaque sexe et chaque année de naissance) dans un enregistrement dont le champ prénom (PREUSUEL) prend la valeur «\\_PRENOMS_RARES\\_». Les effectifs des prénoms remplissant la condition 2 mais pas la condition 3 sont regroupés (pour chaque sexe et chaque prénom) dans un enregistrement dont le champ année de naissance (ANNAIS) prend la valeur «XXXX».\n",
    "\n",
    "**Dictionnaire des variables**\n",
    "\n",
    "Le fichier départemental comporte **703 007** enregistrements et **quatre variables** décrites ci-après.\n",
    "\n",
    "|Nom|Intitulé|Type|Longueur|Modalité|\n",
    "|---|--------|----|--------|--------|\n",
    "|SEXE|sexe|caractère|1|1 pour masculin, 2 pour féminin|\n",
    "|PREUSUEL|premier prénom|caractère|25||\n",
    "|ANNAIS|année de naissance|caractère|4|1900 à 2021, XXXX|\n",
    "|NOMBRE|fréquence|numérique|8||"
   ]
  },
  {
   "attachments": {},
   "cell_type": "markdown",
   "metadata": {},
   "source": [
    "## Vérification et prétraitement<a id='2'></a>"
   ]
  },
  {
   "cell_type": "code",
   "execution_count": 2,
   "metadata": {},
   "outputs": [],
   "source": [
    "# Importe le DataFrame\n",
    "df_prenoms = pd.read_csv('./datasets/nat2022.csv', sep=';')"
   ]
  },
  {
   "cell_type": "code",
   "execution_count": 3,
   "metadata": {},
   "outputs": [
    {
     "data": {
      "text/html": [
       "<div>\n",
       "<style scoped>\n",
       "    .dataframe tbody tr th:only-of-type {\n",
       "        vertical-align: middle;\n",
       "    }\n",
       "\n",
       "    .dataframe tbody tr th {\n",
       "        vertical-align: top;\n",
       "    }\n",
       "\n",
       "    .dataframe thead th {\n",
       "        text-align: right;\n",
       "    }\n",
       "</style>\n",
       "<table border=\"1\" class=\"dataframe\">\n",
       "  <thead>\n",
       "    <tr style=\"text-align: right;\">\n",
       "      <th></th>\n",
       "      <th>sexe</th>\n",
       "      <th>preusuel</th>\n",
       "      <th>annais</th>\n",
       "      <th>nombre</th>\n",
       "    </tr>\n",
       "  </thead>\n",
       "  <tbody>\n",
       "    <tr>\n",
       "      <th>0</th>\n",
       "      <td>1</td>\n",
       "      <td>_PRENOMS_RARES</td>\n",
       "      <td>1900</td>\n",
       "      <td>1249</td>\n",
       "    </tr>\n",
       "    <tr>\n",
       "      <th>1</th>\n",
       "      <td>1</td>\n",
       "      <td>_PRENOMS_RARES</td>\n",
       "      <td>1901</td>\n",
       "      <td>1342</td>\n",
       "    </tr>\n",
       "    <tr>\n",
       "      <th>2</th>\n",
       "      <td>1</td>\n",
       "      <td>_PRENOMS_RARES</td>\n",
       "      <td>1902</td>\n",
       "      <td>1330</td>\n",
       "    </tr>\n",
       "    <tr>\n",
       "      <th>3</th>\n",
       "      <td>1</td>\n",
       "      <td>_PRENOMS_RARES</td>\n",
       "      <td>1903</td>\n",
       "      <td>1286</td>\n",
       "    </tr>\n",
       "    <tr>\n",
       "      <th>4</th>\n",
       "      <td>1</td>\n",
       "      <td>_PRENOMS_RARES</td>\n",
       "      <td>1904</td>\n",
       "      <td>1430</td>\n",
       "    </tr>\n",
       "  </tbody>\n",
       "</table>\n",
       "</div>"
      ],
      "text/plain": [
       "   sexe        preusuel annais  nombre\n",
       "0     1  _PRENOMS_RARES   1900    1249\n",
       "1     1  _PRENOMS_RARES   1901    1342\n",
       "2     1  _PRENOMS_RARES   1902    1330\n",
       "3     1  _PRENOMS_RARES   1903    1286\n",
       "4     1  _PRENOMS_RARES   1904    1430"
      ]
     },
     "execution_count": 3,
     "metadata": {},
     "output_type": "execute_result"
    }
   ],
   "source": [
    "# Affiche un aperçu des données\n",
    "df_prenoms.head()"
   ]
  },
  {
   "cell_type": "code",
   "execution_count": 4,
   "metadata": {},
   "outputs": [
    {
     "data": {
      "text/html": [
       "<div>\n",
       "<style scoped>\n",
       "    .dataframe tbody tr th:only-of-type {\n",
       "        vertical-align: middle;\n",
       "    }\n",
       "\n",
       "    .dataframe tbody tr th {\n",
       "        vertical-align: top;\n",
       "    }\n",
       "\n",
       "    .dataframe thead th {\n",
       "        text-align: right;\n",
       "    }\n",
       "</style>\n",
       "<table border=\"1\" class=\"dataframe\">\n",
       "  <thead>\n",
       "    <tr style=\"text-align: right;\">\n",
       "      <th></th>\n",
       "      <th>sexe</th>\n",
       "      <th>preusuel</th>\n",
       "      <th>annais</th>\n",
       "      <th>nombre</th>\n",
       "    </tr>\n",
       "  </thead>\n",
       "  <tbody>\n",
       "    <tr>\n",
       "      <th>364562</th>\n",
       "      <td>2</td>\n",
       "      <td>AYRA</td>\n",
       "      <td>XXXX</td>\n",
       "      <td>4</td>\n",
       "    </tr>\n",
       "    <tr>\n",
       "      <th>666339</th>\n",
       "      <td>2</td>\n",
       "      <td>SOUFIA</td>\n",
       "      <td>1989</td>\n",
       "      <td>4</td>\n",
       "    </tr>\n",
       "    <tr>\n",
       "      <th>670052</th>\n",
       "      <td>2</td>\n",
       "      <td>SUNA</td>\n",
       "      <td>2007</td>\n",
       "      <td>10</td>\n",
       "    </tr>\n",
       "    <tr>\n",
       "      <th>12436</th>\n",
       "      <td>1</td>\n",
       "      <td>AKIVA</td>\n",
       "      <td>XXXX</td>\n",
       "      <td>24</td>\n",
       "    </tr>\n",
       "    <tr>\n",
       "      <th>472406</th>\n",
       "      <td>2</td>\n",
       "      <td>INÈS</td>\n",
       "      <td>1942</td>\n",
       "      <td>31</td>\n",
       "    </tr>\n",
       "  </tbody>\n",
       "</table>\n",
       "</div>"
      ],
      "text/plain": [
       "        sexe preusuel annais  nombre\n",
       "364562     2     AYRA   XXXX       4\n",
       "666339     2   SOUFIA   1989       4\n",
       "670052     2     SUNA   2007      10\n",
       "12436      1    AKIVA   XXXX      24\n",
       "472406     2     INÈS   1942      31"
      ]
     },
     "execution_count": 4,
     "metadata": {},
     "output_type": "execute_result"
    }
   ],
   "source": [
    "# Affiche un échantillon des données\n",
    "df_prenoms.sample(5)"
   ]
  },
  {
   "cell_type": "code",
   "execution_count": 5,
   "metadata": {},
   "outputs": [
    {
     "data": {
      "text/plain": [
       "(703007, 4)"
      ]
     },
     "execution_count": 5,
     "metadata": {},
     "output_type": "execute_result"
    }
   ],
   "source": [
    "# Affiche les dimension du dataset\n",
    "df_prenoms.shape"
   ]
  },
  {
   "attachments": {},
   "cell_type": "markdown",
   "metadata": {},
   "source": [
    "Le *DataFrame* `df_prenom` a des dimensions qui correspondent aux informations fournies par l'INSEE donc l'importation semble s'être bien passée.\n",
    "\n",
    "Certaines variables vont être renommées et on va également remplacer les modalités de la variables « sexe » par leur signification. L'ojectif est de faciliter la compréhension."
   ]
  },
  {
   "cell_type": "code",
   "execution_count": 6,
   "metadata": {},
   "outputs": [],
   "source": [
    "# Renomme les variables\n",
    "df_prenoms = df_prenoms.rename(\n",
    "    columns={'sexe': 'genre', 'preusuel': 'prenom', 'annais': 'annee'})\n",
    "\n",
    "# Remplace les modalités de 'genre'\n",
    "df_prenoms['genre'] = df_prenoms['genre'].map({1: 'm', 2: 'f'})"
   ]
  },
  {
   "cell_type": "code",
   "execution_count": 7,
   "metadata": {},
   "outputs": [
    {
     "data": {
      "text/html": [
       "<div>\n",
       "<style scoped>\n",
       "    .dataframe tbody tr th:only-of-type {\n",
       "        vertical-align: middle;\n",
       "    }\n",
       "\n",
       "    .dataframe tbody tr th {\n",
       "        vertical-align: top;\n",
       "    }\n",
       "\n",
       "    .dataframe thead th {\n",
       "        text-align: right;\n",
       "    }\n",
       "</style>\n",
       "<table border=\"1\" class=\"dataframe\">\n",
       "  <thead>\n",
       "    <tr style=\"text-align: right;\">\n",
       "      <th></th>\n",
       "      <th>genre</th>\n",
       "      <th>prenom</th>\n",
       "      <th>annee</th>\n",
       "      <th>nombre</th>\n",
       "    </tr>\n",
       "  </thead>\n",
       "  <tbody>\n",
       "    <tr>\n",
       "      <th>314364</th>\n",
       "      <td>m</td>\n",
       "      <td>YONNI</td>\n",
       "      <td>2005</td>\n",
       "      <td>10</td>\n",
       "    </tr>\n",
       "    <tr>\n",
       "      <th>71687</th>\n",
       "      <td>m</td>\n",
       "      <td>DJILLALI</td>\n",
       "      <td>1966</td>\n",
       "      <td>12</td>\n",
       "    </tr>\n",
       "    <tr>\n",
       "      <th>435037</th>\n",
       "      <td>f</td>\n",
       "      <td>FATIHA</td>\n",
       "      <td>2016</td>\n",
       "      <td>39</td>\n",
       "    </tr>\n",
       "  </tbody>\n",
       "</table>\n",
       "</div>"
      ],
      "text/plain": [
       "       genre    prenom annee  nombre\n",
       "314364     m     YONNI  2005      10\n",
       "71687      m  DJILLALI  1966      12\n",
       "435037     f    FATIHA  2016      39"
      ]
     },
     "execution_count": 7,
     "metadata": {},
     "output_type": "execute_result"
    }
   ],
   "source": [
    "df_prenoms.sample(3)"
   ]
  },
  {
   "cell_type": "code",
   "execution_count": 8,
   "metadata": {},
   "outputs": [
    {
     "data": {
      "text/plain": [
       "genre     object\n",
       "prenom    object\n",
       "annee     object\n",
       "nombre     int64\n",
       "dtype: object"
      ]
     },
     "execution_count": 8,
     "metadata": {},
     "output_type": "execute_result"
    }
   ],
   "source": [
    "df_prenoms.dtypes"
   ]
  },
  {
   "attachments": {},
   "cell_type": "markdown",
   "metadata": {},
   "source": [
    "* La variable « genre » est qualitative et n'a qu'un nombre fini de modalités. On va la convertir en catégorie.\n",
    "* La variable « annee », va être convertie en nombre entier. On ne la convertit pas en date car on ne prévoit pas de faire de calculs (détermination de l'âge). Elle a une longueur de 4 (voir dictionnaire), on peut donc la convertir en 16 bit.\n",
    "* La variable « nombre » a une longueur de 8 (voir dictionnaire), on peut donc la convertir en 32 bit.\n",
    "\n",
    "L'objectif de ces conversions est d'optimiser la consommation mémoire et donc d'améliorer les performances. On va afficher la consommation avant/après les conversions pour en mesurer l'impact."
   ]
  },
  {
   "cell_type": "code",
   "execution_count": 9,
   "metadata": {},
   "outputs": [
    {
     "name": "stdout",
     "output_type": "stream",
     "text": [
      "<class 'pandas.core.frame.DataFrame'>\n",
      "RangeIndex: 703007 entries, 0 to 703006\n",
      "Data columns (total 4 columns):\n",
      " #   Column  Non-Null Count   Dtype \n",
      "---  ------  --------------   ----- \n",
      " 0   genre   703007 non-null  object\n",
      " 1   prenom  703005 non-null  object\n",
      " 2   annee   703007 non-null  object\n",
      " 3   nombre  703007 non-null  int64 \n",
      "dtypes: int64(1), object(3)\n",
      "memory usage: 112.5 MB\n"
     ]
    }
   ],
   "source": [
    "# Affiche la consommation mémoire\n",
    "df_prenoms.info(memory_usage='deep')"
   ]
  },
  {
   "cell_type": "code",
   "execution_count": 10,
   "metadata": {},
   "outputs": [
    {
     "name": "stdout",
     "output_type": "stream",
     "text": [
      "invalid literal for int() with base 10: 'XXXX': Error while type casting for column 'annee'\n"
     ]
    }
   ],
   "source": [
    "# Change le type des données\n",
    "try:\n",
    "    df_prenoms = df_prenoms.astype(\n",
    "        {\n",
    "            'genre': 'category',\n",
    "            'annee': 'int16',\n",
    "            'nombre': 'int32'\n",
    "        }\n",
    "    )\n",
    "except ValueError as erreur:\n",
    "    print(erreur)"
   ]
  },
  {
   "cell_type": "markdown",
   "metadata": {},
   "source": [
    "On ne peut pas convertir `annee` car des enregistrements contiennent la chaîne de caractères « XXXX »."
   ]
  },
  {
   "cell_type": "code",
   "execution_count": 11,
   "metadata": {},
   "outputs": [
    {
     "data": {
      "text/plain": [
       "0.010209364125456252"
      ]
     },
     "execution_count": 11,
     "metadata": {},
     "output_type": "execute_result"
    }
   ],
   "source": [
    "# Affiche la part des prénoms 'XXXX'\n",
    "(df_prenoms.loc[df_prenoms['annee'] == 'XXXX', 'nombre'].sum()\n",
    " / df_prenoms['nombre'].sum())"
   ]
  },
  {
   "cell_type": "markdown",
   "metadata": {},
   "source": [
    "Les prénoms avec année 'XXXX' représente 1.02 % du nombre de prénoms donnés. Leur proportion est faible, on les supprime."
   ]
  },
  {
   "cell_type": "code",
   "execution_count": 12,
   "metadata": {},
   "outputs": [],
   "source": [
    "# Supprime les années 'XXXX'\n",
    "df_prenoms = df_prenoms[df_prenoms['annee'] != 'XXXX']"
   ]
  },
  {
   "cell_type": "code",
   "execution_count": 13,
   "metadata": {},
   "outputs": [
    {
     "name": "stdout",
     "output_type": "stream",
     "text": [
      "<class 'pandas.core.frame.DataFrame'>\n",
      "Index: 664210 entries, 0 to 703005\n",
      "Data columns (total 4 columns):\n",
      " #   Column  Non-Null Count   Dtype   \n",
      "---  ------  --------------   -----   \n",
      " 0   genre   664210 non-null  category\n",
      " 1   prenom  664209 non-null  object  \n",
      " 2   annee   664210 non-null  int16   \n",
      " 3   nombre  664210 non-null  int32   \n",
      "dtypes: category(1), int16(1), int32(1), object(1)\n",
      "memory usage: 45.5 MB\n"
     ]
    }
   ],
   "source": [
    "# Change le type des données\n",
    "df_prenoms = df_prenoms.astype(\n",
    "    {\n",
    "        'genre': 'category',\n",
    "        'annee': 'int16',\n",
    "        'nombre': 'int32'\n",
    "    }\n",
    ")\n",
    "\n",
    "# Affiche la consommation mémoire\n",
    "df_prenoms.info(memory_usage='deep')"
   ]
  },
  {
   "attachments": {},
   "cell_type": "markdown",
   "metadata": {},
   "source": [
    "Grâce aux modifications de type, l'utilisation mémoire a été divisée 2.5 !"
   ]
  },
  {
   "cell_type": "code",
   "execution_count": 14,
   "metadata": {},
   "outputs": [
    {
     "data": {
      "text/html": [
       "<div>\n",
       "<style scoped>\n",
       "    .dataframe tbody tr th:only-of-type {\n",
       "        vertical-align: middle;\n",
       "    }\n",
       "\n",
       "    .dataframe tbody tr th {\n",
       "        vertical-align: top;\n",
       "    }\n",
       "\n",
       "    .dataframe thead th {\n",
       "        text-align: right;\n",
       "    }\n",
       "</style>\n",
       "<table border=\"1\" class=\"dataframe\">\n",
       "  <thead>\n",
       "    <tr style=\"text-align: right;\">\n",
       "      <th></th>\n",
       "      <th>genre</th>\n",
       "      <th>prenom</th>\n",
       "      <th>annee</th>\n",
       "      <th>nombre</th>\n",
       "    </tr>\n",
       "  </thead>\n",
       "  <tbody>\n",
       "    <tr>\n",
       "      <th>count</th>\n",
       "      <td>664210</td>\n",
       "      <td>664209</td>\n",
       "      <td>664210.000000</td>\n",
       "      <td>664210.000000</td>\n",
       "    </tr>\n",
       "    <tr>\n",
       "      <th>unique</th>\n",
       "      <td>2</td>\n",
       "      <td>34922</td>\n",
       "      <td>NaN</td>\n",
       "      <td>NaN</td>\n",
       "    </tr>\n",
       "    <tr>\n",
       "      <th>top</th>\n",
       "      <td>f</td>\n",
       "      <td>_PRENOMS_RARES</td>\n",
       "      <td>NaN</td>\n",
       "      <td>NaN</td>\n",
       "    </tr>\n",
       "    <tr>\n",
       "      <th>freq</th>\n",
       "      <td>360702</td>\n",
       "      <td>246</td>\n",
       "      <td>NaN</td>\n",
       "      <td>NaN</td>\n",
       "    </tr>\n",
       "    <tr>\n",
       "      <th>mean</th>\n",
       "      <td>NaN</td>\n",
       "      <td>NaN</td>\n",
       "      <td>1985.202861</td>\n",
       "      <td>131.359498</td>\n",
       "    </tr>\n",
       "    <tr>\n",
       "      <th>std</th>\n",
       "      <td>NaN</td>\n",
       "      <td>NaN</td>\n",
       "      <td>31.742724</td>\n",
       "      <td>890.367622</td>\n",
       "    </tr>\n",
       "    <tr>\n",
       "      <th>min</th>\n",
       "      <td>NaN</td>\n",
       "      <td>NaN</td>\n",
       "      <td>1900.000000</td>\n",
       "      <td>3.000000</td>\n",
       "    </tr>\n",
       "    <tr>\n",
       "      <th>25%</th>\n",
       "      <td>NaN</td>\n",
       "      <td>NaN</td>\n",
       "      <td>1967.000000</td>\n",
       "      <td>4.000000</td>\n",
       "    </tr>\n",
       "    <tr>\n",
       "      <th>50%</th>\n",
       "      <td>NaN</td>\n",
       "      <td>NaN</td>\n",
       "      <td>1995.000000</td>\n",
       "      <td>7.000000</td>\n",
       "    </tr>\n",
       "    <tr>\n",
       "      <th>75%</th>\n",
       "      <td>NaN</td>\n",
       "      <td>NaN</td>\n",
       "      <td>2011.000000</td>\n",
       "      <td>23.000000</td>\n",
       "    </tr>\n",
       "    <tr>\n",
       "      <th>max</th>\n",
       "      <td>NaN</td>\n",
       "      <td>NaN</td>\n",
       "      <td>2022.000000</td>\n",
       "      <td>53502.000000</td>\n",
       "    </tr>\n",
       "  </tbody>\n",
       "</table>\n",
       "</div>"
      ],
      "text/plain": [
       "         genre          prenom          annee         nombre\n",
       "count   664210          664209  664210.000000  664210.000000\n",
       "unique       2           34922            NaN            NaN\n",
       "top          f  _PRENOMS_RARES            NaN            NaN\n",
       "freq    360702             246            NaN            NaN\n",
       "mean       NaN             NaN    1985.202861     131.359498\n",
       "std        NaN             NaN      31.742724     890.367622\n",
       "min        NaN             NaN    1900.000000       3.000000\n",
       "25%        NaN             NaN    1967.000000       4.000000\n",
       "50%        NaN             NaN    1995.000000       7.000000\n",
       "75%        NaN             NaN    2011.000000      23.000000\n",
       "max        NaN             NaN    2022.000000   53502.000000"
      ]
     },
     "execution_count": 14,
     "metadata": {},
     "output_type": "execute_result"
    }
   ],
   "source": [
    "df_prenoms.describe(include='all')"
   ]
  },
  {
   "cell_type": "code",
   "execution_count": 15,
   "metadata": {},
   "outputs": [
    {
     "data": {
      "text/plain": [
       "0.02017474050402032"
      ]
     },
     "execution_count": 15,
     "metadata": {},
     "output_type": "execute_result"
    }
   ],
   "source": [
    "# Affiche la part '_PRENOMS_RARES'\n",
    "(df_prenoms.loc[df_prenoms['prenom'] == '_PRENOMS_RARES', 'nombre'].sum()\n",
    " / df_prenoms['nombre'].sum())"
   ]
  },
  {
   "attachments": {},
   "cell_type": "markdown",
   "metadata": {},
   "source": [
    "L'enregistrement « _PRENOMS_RARES » a une faible part dans le jeu de données et il sera inutile dans l'analyse que nous souhaitons mener, on va donc le supprimer."
   ]
  },
  {
   "cell_type": "code",
   "execution_count": 16,
   "metadata": {},
   "outputs": [],
   "source": [
    "# Supprime les années '_PRENOMS_RARES'\n",
    "df_prenoms = df_prenoms[df_prenoms['prenom'] != '_PRENOMS_RARES']"
   ]
  },
  {
   "cell_type": "code",
   "execution_count": 17,
   "metadata": {},
   "outputs": [
    {
     "data": {
      "text/plain": [
       "genre     0\n",
       "prenom    1\n",
       "annee     0\n",
       "nombre    0\n",
       "dtype: int64"
      ]
     },
     "execution_count": 17,
     "metadata": {},
     "output_type": "execute_result"
    }
   ],
   "source": [
    "# Affiche le nombre de valeurs manquantes\n",
    "df_prenoms.isna().sum()"
   ]
  },
  {
   "attachments": {},
   "cell_type": "markdown",
   "metadata": {},
   "source": [
    "Il manque un prénom dans tout le *DataFrame*."
   ]
  },
  {
   "cell_type": "code",
   "execution_count": 18,
   "metadata": {},
   "outputs": [
    {
     "data": {
      "text/html": [
       "<div>\n",
       "<style scoped>\n",
       "    .dataframe tbody tr th:only-of-type {\n",
       "        vertical-align: middle;\n",
       "    }\n",
       "\n",
       "    .dataframe tbody tr th {\n",
       "        vertical-align: top;\n",
       "    }\n",
       "\n",
       "    .dataframe thead th {\n",
       "        text-align: right;\n",
       "    }\n",
       "</style>\n",
       "<table border=\"1\" class=\"dataframe\">\n",
       "  <thead>\n",
       "    <tr style=\"text-align: right;\">\n",
       "      <th></th>\n",
       "      <th>genre</th>\n",
       "      <th>prenom</th>\n",
       "      <th>annee</th>\n",
       "      <th>nombre</th>\n",
       "    </tr>\n",
       "  </thead>\n",
       "  <tbody>\n",
       "    <tr>\n",
       "      <th>593279</th>\n",
       "      <td>f</td>\n",
       "      <td>NaN</td>\n",
       "      <td>2003</td>\n",
       "      <td>3</td>\n",
       "    </tr>\n",
       "  </tbody>\n",
       "</table>\n",
       "</div>"
      ],
      "text/plain": [
       "       genre prenom  annee  nombre\n",
       "593279     f    NaN   2003       3"
      ]
     },
     "execution_count": 18,
     "metadata": {},
     "output_type": "execute_result"
    }
   ],
   "source": [
    "# Affiche les enregistrements avec prénom manquant\n",
    "df_prenoms.loc[df_prenoms['prenom'].isna()]"
   ]
  },
  {
   "attachments": {},
   "cell_type": "markdown",
   "metadata": {},
   "source": [
    "Il s'agit de toute façon d'un prénom donné seulement 3 fois en 2003, on le supprime."
   ]
  },
  {
   "cell_type": "code",
   "execution_count": 19,
   "metadata": {},
   "outputs": [],
   "source": [
    "# Supprime les enregistrements avec prénom manquant\n",
    "df_prenoms = df_prenoms.dropna().reset_index(drop=True)"
   ]
  },
  {
   "cell_type": "code",
   "execution_count": 20,
   "metadata": {},
   "outputs": [
    {
     "data": {
      "text/plain": [
       "0"
      ]
     },
     "execution_count": 20,
     "metadata": {},
     "output_type": "execute_result"
    }
   ],
   "source": [
    "# Affiche le nombre de doublons\n",
    "df_prenoms.duplicated().sum()"
   ]
  },
  {
   "attachments": {},
   "cell_type": "markdown",
   "metadata": {},
   "source": [
    "Les prénoms sont entièrement écrits en majuscules. Nous allons modifier cela afin que seule la première lettre du prénom soit en majucule. En cas de prénom composé, la première lettre de chaque prénoms qui le composent sera en majuscule."
   ]
  },
  {
   "cell_type": "code",
   "execution_count": 21,
   "metadata": {},
   "outputs": [],
   "source": [
    "df_prenoms['prenom'] = df_prenoms['prenom'].str.title()"
   ]
  },
  {
   "cell_type": "markdown",
   "metadata": {},
   "source": [
    "## Analyse descriptive<a id='3'></a>"
   ]
  },
  {
   "cell_type": "markdown",
   "metadata": {},
   "source": [
    "### Informations générales<a id='3-1'></a>"
   ]
  },
  {
   "cell_type": "code",
   "execution_count": 22,
   "metadata": {},
   "outputs": [
    {
     "name": "stdout",
     "output_type": "stream",
     "text": [
      "Il y a 123 années dans le jeu de données.\n"
     ]
    }
   ],
   "source": [
    "# Affiche le nombre d'années\n",
    "print(f'Il y a {df_prenoms['annee'].nunique()} années dans le jeu de données.')"
   ]
  },
  {
   "cell_type": "code",
   "execution_count": 23,
   "metadata": {},
   "outputs": [
    {
     "name": "stdout",
     "output_type": "stream",
     "text": [
      "genre\n",
      "f    20148\n",
      "m    16961\n",
      "Name: prenom, dtype: int64\n"
     ]
    },
    {
     "data": {
      "image/png": "[encoded data removed]",
      "text/plain": [
       "<Figure size 480x360 with 1 Axes>"
      ]
     },
     "metadata": {},
     "output_type": "display_data"
    }
   ],
   "source": [
    "# Affiche le nombre de prénoms uniques par genre\n",
    "print(df_prenoms.groupby('genre', observed=True)['prenom'].nunique())\n",
    "\n",
    "# Trace le nombre de prénoms uniques par genre\n",
    "df_prenoms.groupby('genre', observed=True)['prenom'].nunique().plot(\n",
    "    kind='barh', xlabel='Nombre', title='Nombre de prénoms uniques',\n",
    "    figsize=(4.8, 3.6)\n",
    ")\n",
    "plt.show()"
   ]
  },
  {
   "cell_type": "code",
   "execution_count": 24,
   "metadata": {},
   "outputs": [
    {
     "name": "stdout",
     "output_type": "stream",
     "text": [
      "genre\n",
      "f    42330279\n",
      "m    43159758\n",
      "Name: nombre, dtype: int32\n"
     ]
    },
    {
     "data": {
      "image/png": "[encoded data removed]",
      "text/plain": [
       "<Figure size 480x360 with 1 Axes>"
      ]
     },
     "metadata": {},
     "output_type": "display_data"
    }
   ],
   "source": [
    "# Affiche le nombre de prénoms donnés par genre\n",
    "print(df_prenoms.groupby('genre', observed=True)['nombre'].sum())\n",
    "\n",
    "# Trace le nombre de prénoms donnés par genre\n",
    "df_prenoms.groupby('genre', observed=True)['nombre'].sum().plot(\n",
    "    kind='barh', xlabel='Nombre', title='Nombre de prénoms donnés',\n",
    "    figsize=(4.8, 3.6)\n",
    ")\n",
    "plt.show()"
   ]
  },
  {
   "cell_type": "code",
   "execution_count": 25,
   "metadata": {},
   "outputs": [
    {
     "data": {
      "text/plain": [
       "count      20148\n",
       "mean        2100\n",
       "std        22824\n",
       "min            3\n",
       "25%           12\n",
       "50%           41\n",
       "75%          175\n",
       "max      2231909\n",
       "Name: nombre, dtype: int32"
      ]
     },
     "execution_count": 25,
     "metadata": {},
     "output_type": "execute_result"
    }
   ],
   "source": [
    "# Affiche les statistiques des prénoms féminins\n",
    "(df_prenoms[df_prenoms['genre'] == 'f'].groupby('prenom')['nombre'].sum()\n",
    ".describe().astype(int))"
   ]
  },
  {
   "cell_type": "code",
   "execution_count": 26,
   "metadata": {},
   "outputs": [
    {
     "data": {
      "text/plain": [
       "count      16961\n",
       "mean        2544\n",
       "std        28028\n",
       "min            3\n",
       "25%           11\n",
       "50%           37\n",
       "75%          170\n",
       "max      1912567\n",
       "Name: nombre, dtype: int32"
      ]
     },
     "execution_count": 26,
     "metadata": {},
     "output_type": "execute_result"
    }
   ],
   "source": [
    "# Affiche les statistiques des prénoms masculins\n",
    "(df_prenoms[df_prenoms['genre'] == 'm'].groupby('prenom')['nombre'].sum()\n",
    ".describe().astype(int))"
   ]
  },
  {
   "cell_type": "markdown",
   "metadata": {},
   "source": [
    "### Tops 10<a id='3-2'></a>"
   ]
  },
  {
   "cell_type": "markdown",
   "metadata": {},
   "source": [
    "On affiche les prénoms les plus donnés depuis 1900."
   ]
  },
  {
   "cell_type": "code",
   "execution_count": 27,
   "metadata": {},
   "outputs": [
    {
     "data": {
      "image/png": "[encoded data removed]",
      "text/plain": [
       "<Figure size 640x480 with 2 Axes>"
      ]
     },
     "metadata": {},
     "output_type": "display_data"
    }
   ],
   "source": [
    "# Trace le top 10 des prénoms par genre\n",
    "fig, axs = plt.subplots(1, 2)\n",
    "\n",
    "(df_prenoms[df_prenoms['genre'] == 'f'].groupby('prenom')['nombre'].sum()\n",
    " .nlargest(10).sort_values().plot(kind='barh', ax=axs[0], xlabel='Nombre')\n",
    ")\n",
    "(df_prenoms[df_prenoms['genre'] == 'm'].groupby('prenom')['nombre'].sum()\n",
    " .nlargest(10).sort_values().plot(kind='barh', ax=axs[1], xlabel='Nombre')\n",
    ")\n",
    "\n",
    "fig.suptitle('Top 10 prénoms féminins et masculins')\n",
    "\n",
    "fig.tight_layout()\n",
    "\n",
    "plt.show()"
   ]
  },
  {
   "cell_type": "markdown",
   "metadata": {},
   "source": [
    "### Evolution des prénoms<a id='3-3'></a>"
   ]
  },
  {
   "cell_type": "markdown",
   "metadata": {},
   "source": [
    "On affiche le nombre de prénoms différents au cours du temps."
   ]
  },
  {
   "cell_type": "code",
   "execution_count": 28,
   "metadata": {},
   "outputs": [
    {
     "data": {
      "image/png": "[encoded data removed]",
      "text/plain": [
       "<Figure size 640x480 with 1 Axes>"
      ]
     },
     "metadata": {},
     "output_type": "display_data"
    }
   ],
   "source": [
    "# Initialise le graphique\n",
    "fig, ax = plt.subplots(figsize=(6.4, 4.8))\n",
    "\n",
    "# Personnalise le graphique\n",
    "ax.grid(alpha=0.6)\n",
    "ax.set_axisbelow(True)\n",
    "\n",
    "for spine in ax.spines.values():\n",
    "    spine.set_visible(False)\n",
    "\n",
    "for genre in df_prenoms['genre'].unique():\n",
    "    df_temp = df_prenoms.loc[df_prenoms['genre'] == genre]\n",
    "    df_temp = df_temp.groupby('annee')['prenom'].agg('nunique').reset_index()\n",
    "    ax.plot(df_temp['annee'], df_temp['prenom'], label=genre)\n",
    "\n",
    "# Définie la position des graduations\n",
    "ax.xaxis.set_major_locator(ticker.MultipleLocator(10))\n",
    "\n",
    "ax.set_xlabel('Année')\n",
    "ax.set_ylabel('Nombre')\n",
    "\n",
    "fig.suptitle(f'Nombre de prénoms par années')\n",
    "\n",
    "fig.tight_layout()\n",
    "\n",
    "plt.legend(title='Genre :', loc='center right')\n",
    "\n",
    "plt.show()"
   ]
  },
  {
   "cell_type": "markdown",
   "metadata": {},
   "source": [
    "### Dispersion<a id='3-4'></a>"
   ]
  },
  {
   "cell_type": "code",
   "execution_count": 29,
   "metadata": {},
   "outputs": [
    {
     "data": {
      "image/png": "[encoded data removed]",
      "text/plain": [
       "<Figure size 640x480 with 2 Axes>"
      ]
     },
     "metadata": {},
     "output_type": "display_data"
    }
   ],
   "source": [
    "# Trace la dispersion du nombre de prénoms\n",
    "fig, axs = plt.subplots(2, 1, figsize=(6.4, 4.8))\n",
    "\n",
    "axs=axs.flatten()\n",
    "\n",
    "for i, genre in enumerate(df_prenoms['genre'].unique()):\n",
    "    df_temp = df_prenoms.loc[df_prenoms['genre'] == genre]\n",
    "    df_temp = df_temp.groupby('prenom')['nombre'].sum().reset_index()\n",
    "    axs[i].boxplot(x=df_temp['nombre'], patch_artist=True, vert=False,\n",
    "                   labels=genre)\n",
    "\n",
    "fig.supxlabel('Nombre')\n",
    "fig.supylabel('Genre')\n",
    "\n",
    "fig.suptitle(f'Dispersion du nombre de prénoms\\nAvec outliers')\n",
    "\n",
    "fig.tight_layout()\n",
    "\n",
    "plt.show()"
   ]
  },
  {
   "cell_type": "code",
   "execution_count": 30,
   "metadata": {},
   "outputs": [
    {
     "data": {
      "image/png": "[encoded data removed]",
      "text/plain": [
       "<Figure size 640x480 with 2 Axes>"
      ]
     },
     "metadata": {},
     "output_type": "display_data"
    }
   ],
   "source": [
    "# Trace la dispersion du nombre de prénoms\n",
    "fig, axs = plt.subplots(2, 1, figsize=(6.4, 4.8))\n",
    "\n",
    "axs=axs.flatten()\n",
    "\n",
    "for i, genre in enumerate(df_prenoms['genre'].unique()):\n",
    "    df_temp = df_prenoms.loc[df_prenoms['genre'] == genre]\n",
    "    df_temp = df_temp.groupby('prenom')['nombre'].sum().reset_index()\n",
    "    axs[i].boxplot(x=df_temp['nombre'], showfliers=False, patch_artist=True,\n",
    "                   vert=False, labels=genre)\n",
    "\n",
    "fig.supxlabel('Nombre')\n",
    "fig.supylabel('Genre')\n",
    "\n",
    "fig.suptitle(f'Dispersion du nombre de prénoms\\nSans outliers')\n",
    "\n",
    "fig.tight_layout()\n",
    "\n",
    "plt.show()"
   ]
  },
  {
   "cell_type": "markdown",
   "metadata": {},
   "source": [
    "Beaucoup  de prénoms sont des *outliers*. Cela signifie qu'il a beaucoup de prénoms peu donnés."
   ]
  },
  {
   "cell_type": "markdown",
   "metadata": {},
   "source": [
    "### Répartition<a id='3-5'></a>"
   ]
  },
  {
   "cell_type": "code",
   "execution_count": 31,
   "metadata": {},
   "outputs": [
    {
     "data": {
      "image/png": "[encoded data removed]",
      "text/plain": [
       "<Figure size 640x480 with 2 Axes>"
      ]
     },
     "metadata": {},
     "output_type": "display_data"
    }
   ],
   "source": [
    "# Trace la répartition du nombre de prénoms\n",
    "fig, axs = plt.subplots(1, 2, figsize=(6.4, 4.8))\n",
    "\n",
    "axs=axs.flatten()\n",
    "\n",
    "for i, genre in enumerate(df_prenoms['genre'].unique()):\n",
    "    df_temp = df_prenoms.loc[df_prenoms['genre'] == genre]\n",
    "    df_temp = df_temp.groupby('prenom')['nombre'].sum().reset_index()\n",
    "    axs[i].hist(x=df_temp['nombre'], label=genre, bins=20, log=True,\n",
    "                edgecolor='k')\n",
    "    axs[i].set_xlabel(genre)\n",
    "    \n",
    "fig.supxlabel('Genre')\n",
    "\n",
    "fig.suptitle(f'Répartition du nombre de prénoms')\n",
    "\n",
    "fig.tight_layout()\n",
    "\n",
    "plt.show()"
   ]
  },
  {
   "cell_type": "markdown",
   "metadata": {},
   "source": [
    "Le constat se confirme avec la répartition. La plupart des prénoms sont très peu donnés."
   ]
  },
  {
   "cell_type": "markdown",
   "metadata": {},
   "source": [
    "## Outils intéractifs INSEE<a id='4'></a>"
   ]
  },
  {
   "cell_type": "markdown",
   "metadata": {},
   "source": [
    "Ici on reproduit les outils intéractifs de l'INSEE ([lien](https://www.insee.fr/fr/statistiques/3532172))."
   ]
  },
  {
   "cell_type": "markdown",
   "metadata": {},
   "source": [
    "### Classement<a id='4-1'></a>"
   ]
  },
  {
   "cell_type": "code",
   "execution_count": 32,
   "metadata": {},
   "outputs": [],
   "source": [
    "def classement_prenoms(periode=[1900], genre=['f', 'm'], n_prenoms=10):\n",
    "\n",
    "    # Groupe les prénoms et classe par nombre en ordre décroissant\n",
    "    df_resultats = (\n",
    "        (\n",
    "            df_prenoms.loc[(df_prenoms['annee'].isin(periode))\n",
    "                           & (df_prenoms['genre'].isin(genre))]\n",
    "        ).groupby('prenom', as_index=False)['nombre'].sum()\n",
    "        .nlargest(n_prenoms,'nombre')\n",
    "    )\n",
    "\n",
    "    # Ajoute le classement\n",
    "    df_resultats['rang'] = (\n",
    "        df_resultats['nombre'].rank(ascending=False).astype(int))\n",
    "\n",
    "    # Crée un DataFrame temporaire\n",
    "    df_temp = df_prenoms.loc[(df_prenoms['annee'].isin(periode))\n",
    "                              & (df_prenoms['genre'].isin(genre))]\n",
    "\n",
    "    # Pivote les années\n",
    "    df_temp = df_temp.pivot_table(values='nombre', index='prenom',\n",
    "                                  columns='annee')\n",
    "\n",
    "    # Calcule le rang par année\n",
    "    df_temp = df_temp.rank(method='min', ascending=False)\n",
    "\n",
    "    # Récupère le meilleur rang par prénom\n",
    "    meilleur_classement = list(df_temp.min(axis='columns').astype(int))\n",
    "\n",
    "    # Calcule le rang par prénom\n",
    "    df_temp = df_temp.rank(method='min', axis='columns')\n",
    "\n",
    "    # Impute l'année si son rang est 1 sinon impute Nan\n",
    "    for column in df_temp.columns:\n",
    "        df_temp[column] = df_temp[column].apply(\n",
    "            lambda x: str(df_temp[column].name) if x == 1 else np.nan)\n",
    "\n",
    "    # Crée une colonne avec les années ou le classement est le meilleur\n",
    "    df_temp['meilleur_classement_en'] = df_temp.apply(\n",
    "        lambda x: ', '.join(x.dropna()), axis=1)\n",
    "\n",
    "    # Crée une colonne avec le meilleur classement\n",
    "    df_temp['meilleur_classement'] = meilleur_classement\n",
    "\n",
    "    # Ajoute les informations au DataFrame des résultats\n",
    "    df_resultats = pd.merge(\n",
    "        df_resultats,\n",
    "        df_temp[['meilleur_classement', 'meilleur_classement_en']],\n",
    "        on='prenom'\n",
    "    )\n",
    "\n",
    "    return df_resultats"
   ]
  },
  {
   "cell_type": "code",
   "execution_count": 33,
   "metadata": {},
   "outputs": [
    {
     "data": {
      "text/html": [
       "<div>\n",
       "<style scoped>\n",
       "    .dataframe tbody tr th:only-of-type {\n",
       "        vertical-align: middle;\n",
       "    }\n",
       "\n",
       "    .dataframe tbody tr th {\n",
       "        vertical-align: top;\n",
       "    }\n",
       "\n",
       "    .dataframe thead th {\n",
       "        text-align: right;\n",
       "    }\n",
       "</style>\n",
       "<table border=\"1\" class=\"dataframe\">\n",
       "  <thead>\n",
       "    <tr style=\"text-align: right;\">\n",
       "      <th></th>\n",
       "      <th>prenom</th>\n",
       "      <th>nombre</th>\n",
       "      <th>rang</th>\n",
       "      <th>meilleur_classement</th>\n",
       "      <th>meilleur_classement_en</th>\n",
       "    </tr>\n",
       "  </thead>\n",
       "  <tbody>\n",
       "    <tr>\n",
       "      <th>0</th>\n",
       "      <td>Jade</td>\n",
       "      <td>18833</td>\n",
       "      <td>1</td>\n",
       "      <td>1</td>\n",
       "      <td>2020, 2021, 2022</td>\n",
       "    </tr>\n",
       "    <tr>\n",
       "      <th>1</th>\n",
       "      <td>Louise</td>\n",
       "      <td>18520</td>\n",
       "      <td>2</td>\n",
       "      <td>2</td>\n",
       "      <td>2020, 2021, 2022</td>\n",
       "    </tr>\n",
       "    <tr>\n",
       "      <th>2</th>\n",
       "      <td>Emma</td>\n",
       "      <td>18171</td>\n",
       "      <td>3</td>\n",
       "      <td>1</td>\n",
       "      <td>2018, 2019</td>\n",
       "    </tr>\n",
       "    <tr>\n",
       "      <th>3</th>\n",
       "      <td>Alice</td>\n",
       "      <td>14881</td>\n",
       "      <td>4</td>\n",
       "      <td>4</td>\n",
       "      <td>2018, 2019, 2020</td>\n",
       "    </tr>\n",
       "    <tr>\n",
       "      <th>4</th>\n",
       "      <td>Ambre</td>\n",
       "      <td>14152</td>\n",
       "      <td>5</td>\n",
       "      <td>3</td>\n",
       "      <td>2022</td>\n",
       "    </tr>\n",
       "    <tr>\n",
       "      <th>5</th>\n",
       "      <td>Rose</td>\n",
       "      <td>13483</td>\n",
       "      <td>6</td>\n",
       "      <td>6</td>\n",
       "      <td>2021, 2022</td>\n",
       "    </tr>\n",
       "    <tr>\n",
       "      <th>6</th>\n",
       "      <td>Lina</td>\n",
       "      <td>13352</td>\n",
       "      <td>7</td>\n",
       "      <td>5</td>\n",
       "      <td>2019</td>\n",
       "    </tr>\n",
       "    <tr>\n",
       "      <th>7</th>\n",
       "      <td>Chloé</td>\n",
       "      <td>12783</td>\n",
       "      <td>8</td>\n",
       "      <td>5</td>\n",
       "      <td>2018</td>\n",
       "    </tr>\n",
       "    <tr>\n",
       "      <th>8</th>\n",
       "      <td>Anna</td>\n",
       "      <td>12428</td>\n",
       "      <td>9</td>\n",
       "      <td>7</td>\n",
       "      <td>2021</td>\n",
       "    </tr>\n",
       "    <tr>\n",
       "      <th>9</th>\n",
       "      <td>Mia</td>\n",
       "      <td>11922</td>\n",
       "      <td>10</td>\n",
       "      <td>9</td>\n",
       "      <td>2020</td>\n",
       "    </tr>\n",
       "  </tbody>\n",
       "</table>\n",
       "</div>"
      ],
      "text/plain": [
       "   prenom  nombre  rang  meilleur_classement meilleur_classement_en\n",
       "0    Jade   18833     1                    1       2020, 2021, 2022\n",
       "1  Louise   18520     2                    2       2020, 2021, 2022\n",
       "2    Emma   18171     3                    1             2018, 2019\n",
       "3   Alice   14881     4                    4       2018, 2019, 2020\n",
       "4   Ambre   14152     5                    3                   2022\n",
       "5    Rose   13483     6                    6             2021, 2022\n",
       "6    Lina   13352     7                    5                   2019\n",
       "7   Chloé   12783     8                    5                   2018\n",
       "8    Anna   12428     9                    7                   2021\n",
       "9     Mia   11922    10                    9                   2020"
      ]
     },
     "execution_count": 33,
     "metadata": {},
     "output_type": "execute_result"
    }
   ],
   "source": [
    "classement_prenoms(\n",
    "    periode=range(2018, 2023),\n",
    "    genre=['f'],\n",
    "    n_prenoms=10\n",
    ")"
   ]
  },
  {
   "cell_type": "code",
   "execution_count": 34,
   "metadata": {},
   "outputs": [
    {
     "data": {
      "text/html": [
       "<div>\n",
       "<style scoped>\n",
       "    .dataframe tbody tr th:only-of-type {\n",
       "        vertical-align: middle;\n",
       "    }\n",
       "\n",
       "    .dataframe tbody tr th {\n",
       "        vertical-align: top;\n",
       "    }\n",
       "\n",
       "    .dataframe thead th {\n",
       "        text-align: right;\n",
       "    }\n",
       "</style>\n",
       "<table border=\"1\" class=\"dataframe\">\n",
       "  <thead>\n",
       "    <tr style=\"text-align: right;\">\n",
       "      <th></th>\n",
       "      <th>prenom</th>\n",
       "      <th>nombre</th>\n",
       "      <th>rang</th>\n",
       "      <th>meilleur_classement</th>\n",
       "      <th>meilleur_classement_en</th>\n",
       "    </tr>\n",
       "  </thead>\n",
       "  <tbody>\n",
       "    <tr>\n",
       "      <th>0</th>\n",
       "      <td>Gabriel</td>\n",
       "      <td>24698</td>\n",
       "      <td>1</td>\n",
       "      <td>1</td>\n",
       "      <td>2018, 2019, 2021, 2022</td>\n",
       "    </tr>\n",
       "    <tr>\n",
       "      <th>1</th>\n",
       "      <td>Léo</td>\n",
       "      <td>22055</td>\n",
       "      <td>2</td>\n",
       "      <td>1</td>\n",
       "      <td>2020</td>\n",
       "    </tr>\n",
       "    <tr>\n",
       "      <th>2</th>\n",
       "      <td>Raphaël</td>\n",
       "      <td>20816</td>\n",
       "      <td>3</td>\n",
       "      <td>2</td>\n",
       "      <td>2018</td>\n",
       "    </tr>\n",
       "    <tr>\n",
       "      <th>3</th>\n",
       "      <td>Louis</td>\n",
       "      <td>19433</td>\n",
       "      <td>4</td>\n",
       "      <td>4</td>\n",
       "      <td>2018, 2021</td>\n",
       "    </tr>\n",
       "    <tr>\n",
       "      <th>4</th>\n",
       "      <td>Arthur</td>\n",
       "      <td>18449</td>\n",
       "      <td>5</td>\n",
       "      <td>4</td>\n",
       "      <td>2019, 2020</td>\n",
       "    </tr>\n",
       "    <tr>\n",
       "      <th>5</th>\n",
       "      <td>Jules</td>\n",
       "      <td>17690</td>\n",
       "      <td>6</td>\n",
       "      <td>6</td>\n",
       "      <td>2020, 2021</td>\n",
       "    </tr>\n",
       "    <tr>\n",
       "      <th>6</th>\n",
       "      <td>Adam</td>\n",
       "      <td>17334</td>\n",
       "      <td>7</td>\n",
       "      <td>6</td>\n",
       "      <td>2018</td>\n",
       "    </tr>\n",
       "    <tr>\n",
       "      <th>7</th>\n",
       "      <td>Maël</td>\n",
       "      <td>16969</td>\n",
       "      <td>8</td>\n",
       "      <td>4</td>\n",
       "      <td>2022</td>\n",
       "    </tr>\n",
       "    <tr>\n",
       "      <th>8</th>\n",
       "      <td>Lucas</td>\n",
       "      <td>16795</td>\n",
       "      <td>9</td>\n",
       "      <td>5</td>\n",
       "      <td>2018</td>\n",
       "    </tr>\n",
       "    <tr>\n",
       "      <th>9</th>\n",
       "      <td>Hugo</td>\n",
       "      <td>15663</td>\n",
       "      <td>10</td>\n",
       "      <td>9</td>\n",
       "      <td>2018, 2019</td>\n",
       "    </tr>\n",
       "  </tbody>\n",
       "</table>\n",
       "</div>"
      ],
      "text/plain": [
       "    prenom  nombre  rang  meilleur_classement  meilleur_classement_en\n",
       "0  Gabriel   24698     1                    1  2018, 2019, 2021, 2022\n",
       "1      Léo   22055     2                    1                    2020\n",
       "2  Raphaël   20816     3                    2                    2018\n",
       "3    Louis   19433     4                    4              2018, 2021\n",
       "4   Arthur   18449     5                    4              2019, 2020\n",
       "5    Jules   17690     6                    6              2020, 2021\n",
       "6     Adam   17334     7                    6                    2018\n",
       "7     Maël   16969     8                    4                    2022\n",
       "8    Lucas   16795     9                    5                    2018\n",
       "9     Hugo   15663    10                    9              2018, 2019"
      ]
     },
     "execution_count": 34,
     "metadata": {},
     "output_type": "execute_result"
    }
   ],
   "source": [
    "classement_prenoms(\n",
    "    periode=range(2018, 2023),\n",
    "    genre=['m'],\n",
    "    n_prenoms=10\n",
    ")"
   ]
  },
  {
   "cell_type": "markdown",
   "metadata": {},
   "source": [
    "### Graphique<a id='4-2'></a>"
   ]
  },
  {
   "cell_type": "code",
   "execution_count": 35,
   "metadata": {},
   "outputs": [],
   "source": [
    "def graphique_prenoms(prenoms=['John'], genre=['m', 'f'], periode = [1900, 2022]):\n",
    "    # Initialise le graphique\n",
    "    fig, ax = plt.subplots(figsize=(6.4, 4.8))\n",
    "\n",
    "    # Personnalise le graphique\n",
    "    ax.grid(alpha=0.6)\n",
    "    ax.set_axisbelow(True)\n",
    "\n",
    "    for spine in ax.spines.values():\n",
    "        spine.set_visible(False)\n",
    "\n",
    "    for prenom in prenoms:\n",
    "        for genre_ in genre:\n",
    "            df_temp = df_prenoms.loc[\n",
    "                (df_prenoms['prenom'] == prenom)\n",
    "                & (df_prenoms['genre'] == genre_)\n",
    "                & (df_prenoms['annee'] >= periode[0])\n",
    "                & (df_prenoms['annee'] <= periode[1])\n",
    "            ].sort_values(by='annee')\n",
    "\n",
    "            if df_temp['nombre'].mean() != 0:\n",
    "                ax.plot(df_temp['annee'], df_temp['nombre'],\n",
    "                        label=f'{prenom, genre_}')\n",
    "\n",
    "    # Définie la position des graduations\n",
    "    ax.xaxis.set_major_locator(ticker.MultipleLocator(10))\n",
    "\n",
    "    ax.set_xlabel('Année')\n",
    "    ax.set_ylabel('Nombre')\n",
    "\n",
    "    fig.suptitle(f'Nombre d\\'occurences d\\'un prénom par années')\n",
    "\n",
    "    fig.tight_layout()\n",
    "\n",
    "    plt.legend(title='Sexe :')\n",
    "\n",
    "    plt.show()"
   ]
  },
  {
   "cell_type": "code",
   "execution_count": 36,
   "metadata": {},
   "outputs": [
    {
     "data": {
      "image/png": "[encoded data removed]",
      "text/plain": [
       "<Figure size 640x480 with 1 Axes>"
      ]
     },
     "metadata": {},
     "output_type": "display_data"
    }
   ],
   "source": [
    "graphique_prenoms(\n",
    "    prenoms=['Tristan', 'Thomas'],\n",
    "    genre=['m'],\n",
    "    periode=[1900, 2023]\n",
    ")"
   ]
  },
  {
   "cell_type": "markdown",
   "metadata": {},
   "source": [
    "## Recherches<a id='5'></a>"
   ]
  },
  {
   "cell_type": "markdown",
   "metadata": {},
   "source": [
    "L'objectif de cette dernière partie est de créer deux listes avec un nombre réduit de prénoms. Il y aura une liste par genre, on commence donc par les séparer dans le jeu de données."
   ]
  },
  {
   "cell_type": "code",
   "execution_count": 37,
   "metadata": {},
   "outputs": [],
   "source": [
    "# Sépare le DataFrame en deux en fonction du genres\n",
    "df_liste_f = df_prenoms.loc[df_prenoms['genre'] == 'f']\n",
    "df_liste_m = df_prenoms.loc[df_prenoms['genre'] == 'm']"
   ]
  },
  {
   "cell_type": "markdown",
   "metadata": {},
   "source": [
    "Les prénoms dans le top 20 des 15 dernières années sont retirés"
   ]
  },
  {
   "cell_type": "code",
   "execution_count": 38,
   "metadata": {},
   "outputs": [],
   "source": [
    "# Calcule les tops 20 des 15 dernières annéees\n",
    "top_f = classement_prenoms(\n",
    "    periode=range(2008, 2023),\n",
    "    genre=['f'],\n",
    "    n_prenoms=20\n",
    ")\n",
    "\n",
    "top_m = classement_prenoms(\n",
    "    periode=range(2008, 2023),\n",
    "    genre=['m'],\n",
    "    n_prenoms=20\n",
    ")\n",
    "\n",
    "# Liste les prénoms de chaque top\n",
    "top_prenoms_f = list(top_f['prenom'])\n",
    "top_prenoms_m = list(top_m['prenom'])\n",
    "\n",
    "# Supprime les prénoms des DataFrames par genre\n",
    "df_liste_f = df_liste_f.loc[~df_liste_f['prenom'].isin(top_prenoms_f)]\n",
    "df_liste_m = df_liste_m.loc[~df_liste_m['prenom'].isin(top_prenoms_m)]"
   ]
  },
  {
   "cell_type": "markdown",
   "metadata": {},
   "source": [
    "Les prénoms trop peu donnés sont également retirés. Pour cela on crée une fonction qui permet d'identifier les *outliers*. Ce sont ces derniers que l'on gardera (voir analyse dispersion)."
   ]
  },
  {
   "cell_type": "code",
   "execution_count": 39,
   "metadata": {},
   "outputs": [],
   "source": [
    "def display_outliers_tab(genre, position=['upper', 'lower']):\n",
    "    \"\"\"\n",
    "    Affiche les prénoms outliers dans df_prenoms.\n",
    "    Paramètres :\n",
    "    - genre : le genre des prénoms à afficher('m' ou 'f')\n",
    "    - position : la position des outlier à afficher.\n",
    "    \"\"\"\n",
    "\n",
    "    df_temp = df_prenoms.loc[df_prenoms['genre'] == genre]\n",
    "    df_temp = df_temp.groupby('prenom')['nombre'].sum().reset_index()\n",
    "\n",
    "    # Calcul les bornes max/min\n",
    "    Q1 = df_temp['nombre'].quantile(0.25)\n",
    "    Q3 = df_temp['nombre'].quantile(0.75)\n",
    "    IQR = Q3 - Q1\n",
    "    max_boxplot = 1.5 * IQR + Q3\n",
    "    min_boxplot = Q1 - 1.5 * IQR\n",
    "\n",
    "    # Filtre les outliers\n",
    "    if position == 'upper':\n",
    "        return df_temp.loc[\n",
    "            df_temp['nombre'] >= max_boxplot, ['prenom', 'nombre']\n",
    "        ].sort_values(by='nombre', ascending=False)\n",
    "    elif position == 'lower':\n",
    "        return df_temp.loc[\n",
    "            df_temp['nombre'] <= min_boxplot, ['prenom', 'nombre']\n",
    "        ].sort_values(by='nombre')"
   ]
  },
  {
   "cell_type": "code",
   "execution_count": 40,
   "metadata": {},
   "outputs": [],
   "source": [
    "# Calcule les outliers par genre\n",
    "outliers_f = display_outliers_tab(\n",
    "    'f',\n",
    "    position='upper'\n",
    ")\n",
    "\n",
    "outliers_m = display_outliers_tab(\n",
    "    'm',\n",
    "    position='upper'\n",
    ")\n",
    "\n",
    "# Liste les prénoms dans les outliers\n",
    "outliers_f = list(outliers_f['prenom'])\n",
    "outliers_m = list(outliers_m['prenom'])\n",
    "\n",
    "# Supprime les prénoms des DataFrames par genre\n",
    "df_liste_f = df_liste_f.loc[df_liste_f['prenom'].isin(outliers_f)]\n",
    "df_liste_m = df_liste_m.loc[df_liste_m['prenom'].isin(outliers_m)] "
   ]
  },
  {
   "cell_type": "markdown",
   "metadata": {},
   "source": [
    "Les prénoms qui ont trop peu d'années d'existance sont supprimés. On considère qu'ils doivent être présents au moins 80 années."
   ]
  },
  {
   "cell_type": "code",
   "execution_count": 41,
   "metadata": {},
   "outputs": [],
   "source": [
    "# Calcul les prénoms d'au moins 80 ans\n",
    "temp = df_liste_f.groupby('prenom', as_index=False)['annee'].agg('nunique')\n",
    "old_f = temp.loc[temp['annee'] >= 80]\n",
    "\n",
    "temp = df_liste_m.groupby('prenom', as_index=False)['annee'].agg('nunique')\n",
    "old_m = temp.loc[temp['annee'] >= 80]\n",
    "\n",
    "# Liste les prénoms \n",
    "old_prenoms_f = list(old_f['prenom'])\n",
    "old_prenoms_m = list(old_m['prenom'])\n",
    "\n",
    "# Supprime les prénoms des DataFrames par genre\n",
    "df_liste_f = df_liste_f.loc[df_liste_f['prenom'].isin(old_prenoms_f)]\n",
    "df_liste_m = df_liste_m.loc[df_liste_m['prenom'].isin(old_prenoms_m)]"
   ]
  },
  {
   "cell_type": "markdown",
   "metadata": {},
   "source": [
    "Enfin, on calcule le nombre de fois total où les prénoms ont été donnés."
   ]
  },
  {
   "cell_type": "code",
   "execution_count": 42,
   "metadata": {},
   "outputs": [
    {
     "data": {
      "text/html": [
       "<div>\n",
       "<style scoped>\n",
       "    .dataframe tbody tr th:only-of-type {\n",
       "        vertical-align: middle;\n",
       "    }\n",
       "\n",
       "    .dataframe tbody tr th {\n",
       "        vertical-align: top;\n",
       "    }\n",
       "\n",
       "    .dataframe thead th {\n",
       "        text-align: right;\n",
       "    }\n",
       "</style>\n",
       "<table border=\"1\" class=\"dataframe\">\n",
       "  <thead>\n",
       "    <tr style=\"text-align: right;\">\n",
       "      <th></th>\n",
       "      <th>nombre</th>\n",
       "    </tr>\n",
       "  </thead>\n",
       "  <tbody>\n",
       "    <tr>\n",
       "      <th>count</th>\n",
       "      <td>6.690000e+02</td>\n",
       "    </tr>\n",
       "    <tr>\n",
       "      <th>mean</th>\n",
       "      <td>4.678929e+04</td>\n",
       "    </tr>\n",
       "    <tr>\n",
       "      <th>std</th>\n",
       "      <td>1.124047e+05</td>\n",
       "    </tr>\n",
       "    <tr>\n",
       "      <th>min</th>\n",
       "      <td>4.350000e+02</td>\n",
       "    </tr>\n",
       "    <tr>\n",
       "      <th>25%</th>\n",
       "      <td>2.606000e+03</td>\n",
       "    </tr>\n",
       "    <tr>\n",
       "      <th>50%</th>\n",
       "      <td>1.026300e+04</td>\n",
       "    </tr>\n",
       "    <tr>\n",
       "      <th>75%</th>\n",
       "      <td>4.772800e+04</td>\n",
       "    </tr>\n",
       "    <tr>\n",
       "      <th>max</th>\n",
       "      <td>2.231909e+06</td>\n",
       "    </tr>\n",
       "  </tbody>\n",
       "</table>\n",
       "</div>"
      ],
      "text/plain": [
       "             nombre\n",
       "count  6.690000e+02\n",
       "mean   4.678929e+04\n",
       "std    1.124047e+05\n",
       "min    4.350000e+02\n",
       "25%    2.606000e+03\n",
       "50%    1.026300e+04\n",
       "75%    4.772800e+04\n",
       "max    2.231909e+06"
      ]
     },
     "metadata": {},
     "output_type": "display_data"
    },
    {
     "data": {
      "text/html": [
       "<div>\n",
       "<style scoped>\n",
       "    .dataframe tbody tr th:only-of-type {\n",
       "        vertical-align: middle;\n",
       "    }\n",
       "\n",
       "    .dataframe tbody tr th {\n",
       "        vertical-align: top;\n",
       "    }\n",
       "\n",
       "    .dataframe thead th {\n",
       "        text-align: right;\n",
       "    }\n",
       "</style>\n",
       "<table border=\"1\" class=\"dataframe\">\n",
       "  <thead>\n",
       "    <tr style=\"text-align: right;\">\n",
       "      <th></th>\n",
       "      <th>nombre</th>\n",
       "    </tr>\n",
       "  </thead>\n",
       "  <tbody>\n",
       "    <tr>\n",
       "      <th>count</th>\n",
       "      <td>5.640000e+02</td>\n",
       "    </tr>\n",
       "    <tr>\n",
       "      <th>mean</th>\n",
       "      <td>5.887363e+04</td>\n",
       "    </tr>\n",
       "    <tr>\n",
       "      <th>std</th>\n",
       "      <td>1.371778e+05</td>\n",
       "    </tr>\n",
       "    <tr>\n",
       "      <th>min</th>\n",
       "      <td>4.470000e+02</td>\n",
       "    </tr>\n",
       "    <tr>\n",
       "      <th>25%</th>\n",
       "      <td>2.378000e+03</td>\n",
       "    </tr>\n",
       "    <tr>\n",
       "      <th>50%</th>\n",
       "      <td>8.532000e+03</td>\n",
       "    </tr>\n",
       "    <tr>\n",
       "      <th>75%</th>\n",
       "      <td>4.450650e+04</td>\n",
       "    </tr>\n",
       "    <tr>\n",
       "      <th>max</th>\n",
       "      <td>1.912567e+06</td>\n",
       "    </tr>\n",
       "  </tbody>\n",
       "</table>\n",
       "</div>"
      ],
      "text/plain": [
       "             nombre\n",
       "count  5.640000e+02\n",
       "mean   5.887363e+04\n",
       "std    1.371778e+05\n",
       "min    4.470000e+02\n",
       "25%    2.378000e+03\n",
       "50%    8.532000e+03\n",
       "75%    4.450650e+04\n",
       "max    1.912567e+06"
      ]
     },
     "metadata": {},
     "output_type": "display_data"
    }
   ],
   "source": [
    "# Calcul le total pour chaque prénom\n",
    "df_liste_f = df_liste_f.groupby('prenom', as_index=False)['nombre'].sum()\n",
    "df_liste_m = df_liste_m.groupby('prenom', as_index=False)['nombre'].sum()\n",
    "\n",
    "# Affiche les statistiques\n",
    "display(df_liste_f.describe(), df_liste_m.describe())"
   ]
  },
  {
   "cell_type": "markdown",
   "metadata": {},
   "source": [
    "Puis on liste les prénoms dont le nombre est supérieur au quantile désiré."
   ]
  },
  {
   "cell_type": "code",
   "execution_count": 43,
   "metadata": {},
   "outputs": [],
   "source": [
    "# Définit la valeur du quantile\n",
    "q = 0.5\n",
    "\n",
    "# Liste les prénoms retenus\n",
    "liste_f = list(\n",
    "    df_liste_f.loc[\n",
    "        df_liste_f['nombre'] > df_liste_f['nombre'].quantile(q), 'prenom']\n",
    ")\n",
    "\n",
    "liste_m = list(\n",
    "    df_liste_m.loc[\n",
    "        df_liste_m['nombre'] > df_liste_m['nombre'].quantile(q), 'prenom']\n",
    ")"
   ]
  },
  {
   "cell_type": "code",
   "execution_count": 44,
   "metadata": {},
   "outputs": [
    {
     "name": "stdout",
     "output_type": "stream",
     "text": [
      "Les listes contiennent 334 prénoms féminins et 282 prénoms masculins.\n"
     ]
    }
   ],
   "source": [
    "print(f'Les listes contiennent {len(liste_f)} prénoms féminins et '\n",
    "      f'{len(liste_m)} prénoms masculins.')"
   ]
  },
  {
   "cell_type": "markdown",
   "metadata": {},
   "source": [
    "Pour finir on peut exporter les listes dans des fichiers csv."
   ]
  },
  {
   "cell_type": "code",
   "execution_count": 45,
   "metadata": {},
   "outputs": [],
   "source": [
    "# Ecrit les listes dans des fichiers csv\n",
    "with open('./listes/liste_f.csv', 'w') as f:\n",
    "    for p in liste_f:\n",
    "        f.write(p+'\\n')\n",
    "\n",
    "with open('./listes/liste_m.csv', 'w') as f:\n",
    "    for p in liste_m:\n",
    "        f.write(p+'\\n')"
   ]
  }
 ],
 "metadata": {
  "kernelspec": {
   "display_name": "pp-env",
   "language": "python",
   "name": "python3"
  },
  "language_info": {
   "codemirror_mode": {
    "name": "ipython",
    "version": 3
   },
   "file_extension": ".py",
   "mimetype": "text/x-python",
   "name": "python",
   "nbconvert_exporter": "python",
   "pygments_lexer": "ipython3",
   "version": "3.12.0"
  },
  "orig_nbformat": 4
 },
 "nbformat": 4,
 "nbformat_minor": 2
}

{
 "cells": [
  {
   "cell_type": "code",
   "execution_count": 3,
   "metadata": {},
   "outputs": [],
   "source": [
    "# Importe les librairies\n",
    "from pathlib import Path\n",
    "import pandas as pd\n",
    "import json"
   ]
  },
  {
   "cell_type": "markdown",
   "metadata": {},
   "source": [
    "# NASA - Astronomy Picture of the Day (APOD) update CSV"
   ]
  },
  {
   "cell_type": "markdown",
   "metadata": {},
   "source": [
    "Ce *notebook* contient le code permettant de mettre à jour le fichier CSV contenant les données brut de l'APOD en ajoutant les données d'une ou plusieurs nouvelle(s) requête(s).\n",
    "\n",
    "> * Les fichiers JSON sont générés par la requête sur l'API APOD de la NASA (voir [`nasa-apod-api-requests.ipynb`](./nasa-apod-api-requests.ipynb)).\n",
    "> * Le fichier CSV est généré à partir des fichiers JSON (voir [`nasa-apod-read-json-to-csv.ipynb`](nasa-apod-read-json-to-csv.ipynb))."
   ]
  },
  {
   "cell_type": "code",
   "execution_count": 33,
   "metadata": {},
   "outputs": [],
   "source": [
    "JSON_FOLDER = 'json-files'\n",
    "CSV_FOLDER = 'csv'"
   ]
  },
  {
   "cell_type": "code",
   "execution_count": 52,
   "metadata": {},
   "outputs": [
    {
     "data": {
      "text/html": [
       "<div>\n",
       "<style scoped>\n",
       "    .dataframe tbody tr th:only-of-type {\n",
       "        vertical-align: middle;\n",
       "    }\n",
       "\n",
       "    .dataframe tbody tr th {\n",
       "        vertical-align: top;\n",
       "    }\n",
       "\n",
       "    .dataframe thead th {\n",
       "        text-align: right;\n",
       "    }\n",
       "</style>\n",
       "<table border=\"1\" class=\"dataframe\">\n",
       "  <thead>\n",
       "    <tr style=\"text-align: right;\">\n",
       "      <th></th>\n",
       "      <th>copyright</th>\n",
       "      <th>date</th>\n",
       "      <th>explanation</th>\n",
       "      <th>hdurl</th>\n",
       "      <th>media_type</th>\n",
       "      <th>service_version</th>\n",
       "      <th>title</th>\n",
       "      <th>url</th>\n",
       "      <th>thumbnail_url</th>\n",
       "    </tr>\n",
       "  </thead>\n",
       "  <tbody>\n",
       "    <tr>\n",
       "      <th>0</th>\n",
       "      <td>\\nMaxime Daviron\\n</td>\n",
       "      <td>2023-10-01</td>\n",
       "      <td>A good place to see a ring-of-fire eclipse, it...</td>\n",
       "      <td>https://apod.nasa.gov/apod/image/2310/DesertEc...</td>\n",
       "      <td>image</td>\n",
       "      <td>v1</td>\n",
       "      <td>A Desert Eclipse</td>\n",
       "      <td>https://apod.nasa.gov/apod/image/2310/DesertEc...</td>\n",
       "      <td>NaN</td>\n",
       "    </tr>\n",
       "    <tr>\n",
       "      <th>1</th>\n",
       "      <td>\\nNicolas Escurat\\n</td>\n",
       "      <td>2023-10-02</td>\n",
       "      <td>Sometimes lightning occurs out near space.  On...</td>\n",
       "      <td>https://apod.nasa.gov/apod/image/2310/HiResSpr...</td>\n",
       "      <td>image</td>\n",
       "      <td>v1</td>\n",
       "      <td>Sprite Lightning in High Definition</td>\n",
       "      <td>https://apod.nasa.gov/apod/image/2310/HiResSpr...</td>\n",
       "      <td>NaN</td>\n",
       "    </tr>\n",
       "    <tr>\n",
       "      <th>2</th>\n",
       "      <td>\\nNASA, \\nESA, \\nHubble, \\nHLA;\\nProcessing &amp; ...</td>\n",
       "      <td>2023-10-03</td>\n",
       "      <td>Do you see the hourglass shape -- or does it s...</td>\n",
       "      <td>https://apod.nasa.gov/apod/image/2310/Hourglas...</td>\n",
       "      <td>image</td>\n",
       "      <td>v1</td>\n",
       "      <td>MyCn 18: The Engraved Hourglass Planetary Nebula</td>\n",
       "      <td>https://apod.nasa.gov/apod/image/2310/Hourglas...</td>\n",
       "      <td>NaN</td>\n",
       "    </tr>\n",
       "    <tr>\n",
       "      <th>3</th>\n",
       "      <td>\\nAbdullah Alharbi\\n</td>\n",
       "      <td>2023-10-04</td>\n",
       "      <td>Does this nebula look like the head of a witch...</td>\n",
       "      <td>https://apod.nasa.gov/apod/image/2310/WitchHea...</td>\n",
       "      <td>image</td>\n",
       "      <td>v1</td>\n",
       "      <td>IC 2118: The Witch Head Nebula</td>\n",
       "      <td>https://apod.nasa.gov/apod/image/2310/WitchHea...</td>\n",
       "      <td>NaN</td>\n",
       "    </tr>\n",
       "    <tr>\n",
       "      <th>4</th>\n",
       "      <td>Tunc Tezel</td>\n",
       "      <td>2023-10-05</td>\n",
       "      <td>Tracking along a narrow path, the shadow of a ...</td>\n",
       "      <td>https://apod.nasa.gov/apod/image/2310/MoValley...</td>\n",
       "      <td>image</td>\n",
       "      <td>v1</td>\n",
       "      <td>Ring of Fire over Monument Valley</td>\n",
       "      <td>https://apod.nasa.gov/apod/image/2310/MoValley...</td>\n",
       "      <td>NaN</td>\n",
       "    </tr>\n",
       "  </tbody>\n",
       "</table>\n",
       "</div>"
      ],
      "text/plain": [
       "                                           copyright        date  \\\n",
       "0                                 \\nMaxime Daviron\\n  2023-10-01   \n",
       "1                                \\nNicolas Escurat\\n  2023-10-02   \n",
       "2  \\nNASA, \\nESA, \\nHubble, \\nHLA;\\nProcessing & ...  2023-10-03   \n",
       "3                               \\nAbdullah Alharbi\\n  2023-10-04   \n",
       "4                                         Tunc Tezel  2023-10-05   \n",
       "\n",
       "                                         explanation  \\\n",
       "0  A good place to see a ring-of-fire eclipse, it...   \n",
       "1  Sometimes lightning occurs out near space.  On...   \n",
       "2  Do you see the hourglass shape -- or does it s...   \n",
       "3  Does this nebula look like the head of a witch...   \n",
       "4  Tracking along a narrow path, the shadow of a ...   \n",
       "\n",
       "                                               hdurl media_type  \\\n",
       "0  https://apod.nasa.gov/apod/image/2310/DesertEc...      image   \n",
       "1  https://apod.nasa.gov/apod/image/2310/HiResSpr...      image   \n",
       "2  https://apod.nasa.gov/apod/image/2310/Hourglas...      image   \n",
       "3  https://apod.nasa.gov/apod/image/2310/WitchHea...      image   \n",
       "4  https://apod.nasa.gov/apod/image/2310/MoValley...      image   \n",
       "\n",
       "  service_version                                             title  \\\n",
       "0              v1                                  A Desert Eclipse   \n",
       "1              v1               Sprite Lightning in High Definition   \n",
       "2              v1  MyCn 18: The Engraved Hourglass Planetary Nebula   \n",
       "3              v1                    IC 2118: The Witch Head Nebula   \n",
       "4              v1                 Ring of Fire over Monument Valley   \n",
       "\n",
       "                                                 url thumbnail_url  \n",
       "0  https://apod.nasa.gov/apod/image/2310/DesertEc...           NaN  \n",
       "1  https://apod.nasa.gov/apod/image/2310/HiResSpr...           NaN  \n",
       "2  https://apod.nasa.gov/apod/image/2310/Hourglas...           NaN  \n",
       "3  https://apod.nasa.gov/apod/image/2310/WitchHea...           NaN  \n",
       "4  https://apod.nasa.gov/apod/image/2310/MoValley...           NaN  "
      ]
     },
     "execution_count": 52,
     "metadata": {},
     "output_type": "execute_result"
    }
   ],
   "source": [
    "# Importe le fichier csv dans un DataFrame\n",
    "df = pd.read_csv('./' + CSV_FOLDER + '/apod-raw.csv', sep=';')\n",
    "\n",
    "df.head()"
   ]
  },
  {
   "cell_type": "code",
   "execution_count": 53,
   "metadata": {},
   "outputs": [],
   "source": [
    "# Crée un set des dates du fichier csv\n",
    "csv_dates = set(df['date'])\n",
    "\n",
    "# Liste les fichiers json\n",
    "json_files = Path('./' + JSON_FOLDER).glob('*.json')\n",
    "\n",
    "# Crée un set des dates des fichiers json\n",
    "json_dates = set()\n",
    "for file in json_files:\n",
    "    json_dates.add(file.stem)"
   ]
  },
  {
   "cell_type": "code",
   "execution_count": 55,
   "metadata": {},
   "outputs": [],
   "source": [
    "if len(json_dates - csv_dates) > 0:\n",
    "    missing_dates = json_dates - csv_dates\n",
    "    for date in missing_dates:\n",
    "        filepath = './' + JSON_FOLDER + '/' + date + '.json'\n",
    "\n",
    "        with open(filepath, 'r', encoding='utf-8') as f:\n",
    "            data = json.load(f)\n",
    "            data = pd.DataFrame.from_dict(data, orient='index').T\n",
    "\n",
    "        data.to_csv('./' + CSV_FOLDER + '/apod-raw.csv',\n",
    "                mode='a', encoding='utf-8', index=False, header=False, sep=';')\n",
    "        \n",
    "else:\n",
    "    print('Pas de nouveau(x) fichier(s) à ajouter.')"
   ]
  }
 ],
 "metadata": {
  "kernelspec": {
   "display_name": "pp-env",
   "language": "python",
   "name": "python3"
  },
  "language_info": {
   "codemirror_mode": {
    "name": "ipython",
    "version": 3
   },
   "file_extension": ".py",
   "mimetype": "text/x-python",
   "name": "python",
   "nbconvert_exporter": "python",
   "pygments_lexer": "ipython3",
   "version": "3.12.0"
  }
 },
 "nbformat": 4,
 "nbformat_minor": 2
}

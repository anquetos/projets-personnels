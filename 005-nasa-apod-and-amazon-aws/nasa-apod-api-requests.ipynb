{
 "cells": [
  {
   "cell_type": "code",
   "execution_count": 2,
   "metadata": {},
   "outputs": [],
   "source": [
    "# Importe les librairies\n",
    "import requests\n",
    "import json\n",
    "import pandas as pd"
   ]
  },
  {
   "cell_type": "markdown",
   "metadata": {},
   "source": [
    "# NASA - Astronomy Picture of the Day (APOD) API requests"
   ]
  },
  {
   "cell_type": "markdown",
   "metadata": {},
   "source": [
    "* Ce *notebook* contient différents essais de requêtes sur l'API APOD de la NASA\n",
    "* Pour effectuer les requêtes il est nécessaire de faire une demande de clé sur le site [NASA Open APIs](https://api.nasa.gov/).\n",
    "* Dans le code ci-dessous, et pour des raisons de confidentialité, la clé est lue depuis le fichier `api_key.json` sous cette forme :<br><br>\n",
    "    >```python\n",
    "    >{\n",
    "    >    \"api_key\": \"YOUR_API_KEY\"\n",
    "    >}\n",
    "    >``` \n"
   ]
  },
  {
   "cell_type": "markdown",
   "metadata": {},
   "source": [
    "<img title='Red Aurora over Italy' src='./images/red-aurora-italy-hofer-1080.jpg' width='480px'>"
   ]
  },
  {
   "cell_type": "markdown",
   "metadata": {},
   "source": [
    "## Sommaire\n",
    "* [Utilisation APOD API](#utilisation-apod-api)\n",
    "    * [HTTP Request](#http-request)\n",
    "    * [Query parameters](#query-parameters)\n",
    "    * [Example query](#example-query)\n",
    "* [Requêtes sur l'API](#requêtes-sur-lapi)\n",
    "    * [Url, clé et dossier](#url-clé-et-dossier)\n",
    "    * [Requête simple](#requête-simple)\n",
    "    * [Requête sur une plage de dates](#requête-sur-une-plage-de-dates)\n",
    "    * [Requête avec nombre d'images aléatoires](#requête-avec-nombre-dimages-aléatoires)\n",
    "    * [Ecriture du résultat dans un fichier JSON](#ecriture-du-résultat-dans-un-fichier-json)\n",
    "    * [Ecriture du résultat d'une plage de dates dans plusieurs fichiers JSON](#ecriture-du-résultat-dune-plage-de-dates-dans-plusieurs-fichiers-json)"
   ]
  },
  {
   "cell_type": "markdown",
   "metadata": {},
   "source": [
    "## Utilisation APOD API"
   ]
  },
  {
   "cell_type": "markdown",
   "metadata": {},
   "source": [
    "### HTTP Request"
   ]
  },
  {
   "cell_type": "markdown",
   "metadata": {},
   "source": [
    "`GET https://api.nasa.gov/planetary/apod`\n",
    "\n",
    "> `concept_tags` are now disabled in this service. Also, an optional return parameter `copyright` is returned if the image is not public domain."
   ]
  },
  {
   "cell_type": "markdown",
   "metadata": {},
   "source": [
    "### Query parameters"
   ]
  },
  {
   "cell_type": "markdown",
   "metadata": {},
   "source": [
    "| **Parameter** | **Type** | **Default** | **Description** |\n",
    "|---|---|---|---|\n",
    "| `date` | YYYY-MM-DD | *today* | The date of the APOD image to retrieve |\n",
    "| `start_date` | YYYY-MM-DD | none | The start of a date range, when requesting date for a range of dates. Cannot be used with `date`. |\n",
    "| `end_date` | YYYY-MM-DD | *today* | The end of the date range, when used with `start_date`. |\n",
    "| `count` | int | none | If this is specified then `count` randomly chosen images will be returned. Cannot be used with `date` or `start_date` and `end_date`. |\n",
    "| `concept_tags` | bool | False | Return an ordered dictionary of concepts from the APOD explanation |\n",
    "| `hd` | bool | False | Retrieve the URL for the high resolution image |\n",
    "| `thumbs` | bool | False | Return the URL of video thumbnail. If an APOD is not a video, this parameter is ignored. |\n",
    "| `api_key` | string | DEMO_KEY | [api.nasa.gov](https://api.nasa.gov/#signUp) key for expanded usage |"
   ]
  },
  {
   "cell_type": "markdown",
   "metadata": {},
   "source": [
    "### Example query"
   ]
  },
  {
   "cell_type": "markdown",
   "metadata": {},
   "source": [
    "[`https://api.nasa.gov/planetary/apod?api_key=DEMO_KEY`](https://api.nasa.gov/planetary/apod?api_key=DEMO_KEY)"
   ]
  },
  {
   "cell_type": "markdown",
   "metadata": {},
   "source": [
    "## Requêtes sur l'API"
   ]
  },
  {
   "cell_type": "markdown",
   "metadata": {},
   "source": [
    "### Url, clé et dossier"
   ]
  },
  {
   "cell_type": "code",
   "execution_count": 3,
   "metadata": {},
   "outputs": [],
   "source": [
    "# Initialise l'url\n",
    "URL = 'https://api.nasa.gov/planetary/apod'\n",
    "\n",
    "# Initialise la clé de l'api depuis un JSON externe\n",
    "f = open('./api_key.json')\n",
    "API_KEY = json.load(f)['api_key']\n",
    "f.close()\n",
    "\n",
    "# Définit le dossier de stockage des fichiers JSON\n",
    "JSON_FOLDER = 'json-files'"
   ]
  },
  {
   "cell_type": "markdown",
   "metadata": {},
   "source": [
    "### Requête simple"
   ]
  },
  {
   "cell_type": "code",
   "execution_count": 4,
   "metadata": {},
   "outputs": [],
   "source": [
    "# Définit les paramètres de la requête\n",
    "params = {\n",
    "    'api_key': API_KEY\n",
    "}"
   ]
  },
  {
   "cell_type": "code",
   "execution_count": 5,
   "metadata": {},
   "outputs": [
    {
     "data": {
      "text/plain": [
       "{'copyright': '\\nDzmitry Kananovich\\n',\n",
       " 'date': '2023-11-13',\n",
       " 'explanation': 'Have you ever seen the Andromeda galaxy? Although M31 appears as a faint and fuzzy blob to the unaided eye, the light you see will be over two million years old, making it likely the oldest light you ever will see directly. The featured image captured Andromeda just before it set behind the Swiss Alps early last year. As cool as it may be to see this neighboring galaxy to our Milky Way with your own eyes, long duration camera exposures can pick up many faint and breathtaking details. The image is composite of foreground and background images taken consecutively with the same camera and from the same location.  Recent data indicate that our Milky Way Galaxy will collide and coalesce with Andromeda galaxy in a few billion years.   Follow APOD on Facebook in: Arabic, English, Catalan, Portuguese, or Taiwanese',\n",
       " 'hdurl': 'https://apod.nasa.gov/apod/image/2311/M31Alps_Kananovich_1639.jpg',\n",
       " 'media_type': 'image',\n",
       " 'service_version': 'v1',\n",
       " 'title': 'Andromeda over the Alps',\n",
       " 'url': 'https://apod.nasa.gov/apod/image/2311/M31Alps_Kananovich_960.jpg'}"
      ]
     },
     "execution_count": 5,
     "metadata": {},
     "output_type": "execute_result"
    }
   ],
   "source": [
    "# Effectue la requête\n",
    "r = requests.get(URL, params=params, timeout=10)\n",
    "r.json()"
   ]
  },
  {
   "cell_type": "markdown",
   "metadata": {},
   "source": [
    "### Requête sur une plage de dates"
   ]
  },
  {
   "cell_type": "code",
   "execution_count": 6,
   "metadata": {},
   "outputs": [],
   "source": [
    "# Définit les paramètres de la requête\n",
    "params = {\n",
    "    'api_key': API_KEY,\n",
    "    'start_date': '2023-11-01',\n",
    "    'end_date': '2023-11-06'\n",
    "}"
   ]
  },
  {
   "cell_type": "code",
   "execution_count": 7,
   "metadata": {},
   "outputs": [
    {
     "data": {
      "text/plain": [
       "[{'copyright': '\\nMaryBeth Kiczenski\\n',\n",
       "  'date': '2023-11-01',\n",
       "  'explanation': 'Part of the Sun disappeared earlier this month, but few people were worried. The missing part, which included the center from some locations, just went behind the Moon in what is known as an annular solar eclipse.  Featured here is an eclipse sequence taken as the Moon was overtaking the rising Sun in the sky. The foreground hill is Factory Butte in Utah, USA. The rays flaring out from the Sun are not real -- they result from camera aperture diffraction and are known as sunstar. The Moon is real, but appears only in silhouette in this ring-of-fire eclipse. As stunning as this eclipse sequence is, it was considered just practice by the astrophotographer.  The reason? She hopes to use this experience to better photograph the total solar eclipse that will occur over North America on April 8, 2024.   Apply today (USA): Become a NASA Partner Eclipse Ambassador  Eclipse Album: Selected images sent in to APOD',\n",
       "  'hdurl': 'https://apod.nasa.gov/apod/image/2311/UtahEclipseB_Kiczenski_1480.jpg',\n",
       "  'media_type': 'image',\n",
       "  'service_version': 'v1',\n",
       "  'title': 'Annular Solar Eclipse over Utah',\n",
       "  'url': 'https://apod.nasa.gov/apod/image/2311/UtahEclipseB_Kiczenski_960.jpg'},\n",
       " {'copyright': 'Marcelo Rivera',\n",
       "  'date': '2023-11-02',\n",
       "  'explanation': \"Named for the southern constellation toward which most of its galaxies can be found, the Fornax Cluster is one of the closest clusters of galaxies. About 62 million light-years away, it's over 20 times more distant than our neighboring Andromeda Galaxy, but only about 10 percent farther along than the better known and more populated Virgo Galaxy Cluster. Seen across this three degree wide field-of-view, almost every yellowish splotch on the image is an elliptical galaxy in the Fornax cluster. Elliptical galaxies NGC 1399 and NGC 1404 are the dominant, bright cluster members toward the bottom center. A standout, large barred spiral galaxy, NGC 1365, is visible on the upper right as a prominent Fornax cluster member.\",\n",
       "  'hdurl': 'https://apod.nasa.gov/apod/image/2311/ClusterFornax.jpg',\n",
       "  'media_type': 'image',\n",
       "  'service_version': 'v1',\n",
       "  'title': 'The Fornax Cluster of Galaxies',\n",
       "  'url': 'https://apod.nasa.gov/apod/image/2311/ClusterFornax1024.jpg'},\n",
       " {'copyright': 'Giorgia Hofer',\n",
       "  'date': '2023-11-03',\n",
       "  'explanation': \"That bright beacon you've seen rising in the east just after sunset is Jupiter. Climbing high in midnight skies, our Solar System's ruling gas giant was at its 2023 opposition, opposite the Sun in planet Earth's sky, on November 2. But only a few days earlier, on October 28, the Moon was at its own opposition. Then both Full Moon and Jupiter could share this telephoto field of view. The celestial scene is composed from two exposures, one long and one short, blended to record bright planet and even brighter Moon during that evening's partial lunar eclipse. Moonlight shining through the thin, high clouds over northern Italy creates the colorful iridescence and lunar corona. Look closely and you'll also spot some of Jupiter's Galilean moons.\",\n",
       "  'hdurl': 'https://apod.nasa.gov/apod/image/2311/_GHR7338_3_firma_picc.jpg',\n",
       "  'media_type': 'image',\n",
       "  'service_version': 'v1',\n",
       "  'title': 'Jupiter by Moonlight',\n",
       "  'url': 'https://apod.nasa.gov/apod/image/2311/_GHR7338_3_firma_picc1024.jpg'},\n",
       " {'date': '2023-11-04',\n",
       "  'explanation': \"Last Wednesday the voyaging Lucy spacecraft encountered its first asteroid, 152830 Dinkinesh, and discovered the inner-main belt asteroid has a moon. From a distance of just over 400 kilometers, Lucy's Long-Range Reconnaissance Imager captured this close-up of the binary system during a flyby at 4.5 kilometer per second or around 10,000 miles per hour. A marvelous world, Dinkinesh itself is small, less than 800 meters (about 0.5 miles) across at its widest. Its satellite is seen from the spacecraft's perspective to emerge from behind the primary asteroid. The asteroid moon is estimated to be only about 220 meters wide.\",\n",
       "  'hdurl': 'https://apod.nasa.gov/apod/image/2311/dinkinesh-firstlook-llorri.png',\n",
       "  'media_type': 'image',\n",
       "  'service_version': 'v1',\n",
       "  'title': 'Dinkinesh Moonrise',\n",
       "  'url': 'https://apod.nasa.gov/apod/image/2311/dinkinesh-firstlook-llorri.png'},\n",
       " {'copyright': '\\nOle C. Salomonsen\\n(Arctic Light Photo) \\n',\n",
       "  'date': '2023-11-05',\n",
       "  'explanation': 'It was Halloween and the sky looked like a creature. Exactly which creature, the astrophotographer was unsure (but possibly you can suggest one). Exactly what caused this  eerie apparition in 2013 was sure: one of the best auroral displays that year. This spectacular aurora had an unusually high degree of detail. Pictured here, the vivid green and purple  auroral colors are caused by high atmospheric oxygen and nitrogen reacting to a burst of incoming electrons.  Birch trees in Tromsø, Norway formed an also eerie foreground. Frequently, new photogenic auroras accompany new geomagnetic storms.   Almost Hyperspace: Random APOD Generator',\n",
       "  'hdurl': 'https://apod.nasa.gov/apod/image/2311/CreatureAurora_Salomonsen_960.jpg',\n",
       "  'media_type': 'image',\n",
       "  'service_version': 'v1',\n",
       "  'title': 'Creature Aurora Over Norway',\n",
       "  'url': 'https://apod.nasa.gov/apod/image/2311/CreatureAurora_Salomonsen_960.jpg'},\n",
       " {'copyright': '\\nGiorgia Hofer\\n',\n",
       "  'date': '2023-11-06',\n",
       "  'explanation': \"What was that red glow on the horizon last night? Aurora. Our unusually active Sun produced a surface explosion a few days ago that sent out a burst of electrons, protons, and more massive charged nuclei. This coronal mass ejection (CME) triggered auroras here on Earth that are being reported unusually far south in Earth's northern hemisphere.  For example, this was the first time that the astrophotographer captured aurora from her home country of Italy. Additionally, many images from these auroras appear quite red in color.  In the featured image, the town of Comelico Superiore in the Italian Alps is visible in the foreground, with the central band of our Milky Way galaxy seen rising from the lower left. What draws the eye the most, though, is the bright red aurora on the far right. The featured image is a composite with the foreground and background images taken consecutively with the same camera and from the same location.   Aurora Album: Selected images sent in to APOD\",\n",
       "  'hdurl': 'https://apod.nasa.gov/apod/image/2311/RedAuroraItaly_Hofer_1200.jpg',\n",
       "  'media_type': 'image',\n",
       "  'service_version': 'v1',\n",
       "  'title': 'Red Aurora over Italy',\n",
       "  'url': 'https://apod.nasa.gov/apod/image/2311/RedAuroraItaly_Hofer_1080.jpg'}]"
      ]
     },
     "execution_count": 7,
     "metadata": {},
     "output_type": "execute_result"
    }
   ],
   "source": [
    "# Effectue la requête\n",
    "r = requests.get(URL, params=params)\n",
    "r.json()"
   ]
  },
  {
   "cell_type": "markdown",
   "metadata": {},
   "source": [
    "### Requête avec nombre d'images aléatoires"
   ]
  },
  {
   "cell_type": "code",
   "execution_count": 8,
   "metadata": {},
   "outputs": [],
   "source": [
    "# Définit les paramètres de la requête\n",
    "params = {\n",
    "    'api_key': API_KEY,\n",
    "    'count': '4'\n",
    "}"
   ]
  },
  {
   "cell_type": "code",
   "execution_count": 9,
   "metadata": {},
   "outputs": [
    {
     "data": {
      "text/plain": [
       "[{'copyright': 'Clear Skies',\n",
       "  'date': '2013-12-04',\n",
       "  'explanation': \"This new comet is quite photogenic. Comet Lovejoy, discovered only three months ago, was imaged through ruins of ancient M�rby Castle in Sweden last week sporting a green-glowing coma and tails trailing several degrees. The past few weeks have been an unusually active time for comet watchers as four comets were visible simultaneously with binoculars: ISON, Lovejoy, Encke, and LINEAR. C/2013 R1 (Lovejoy) comet is currently visible to the unaided eye from a dark location. As Monday's new Moon will provide little glare, the next few days provide a good time to see Comet Lovejoy as it reaches its peak brightness. In two and a half weeks, Comet Lovejoy will reach its closest approach to the Sun at a distance just inside the orbital distance of the Earth.   Late ISON News: Multiple views from Sun-observing spacecraft\",\n",
       "  'hdurl': 'https://apod.nasa.gov/apod/image/1312/lovejoyruin_heden_1000.jpg',\n",
       "  'media_type': 'image',\n",
       "  'service_version': 'v1',\n",
       "  'title': 'Comet Lovejoy through M�rby Castle Ruins',\n",
       "  'url': 'https://apod.nasa.gov/apod/image/1312/lovejoyruin_heden_960.jpg'},\n",
       " {'copyright': 'Jean-Francois Gout',\n",
       "  'date': '2021-11-25',\n",
       "  'explanation': \"Shaped like a cone tapering into space, the Earth's dark central shadow or umbra has a circular cross-section. It's wider than the Moon at the distance of the Moon's orbit though. But during the lunar eclipse of November 18/19, part of the Moon remained just outside the umbral shadow. The successive pictures in this composite of 5 images from that almost total lunar eclipse were taken over a period of about 1.5 hours. The series is aligned to trace part of the cross-section's circular arc, with the central image at maximum eclipse. It shows a bright, thin sliver of the lunar disk still beyond the shadow's curved edge. Of course, even within the shadow the Moon's surface is not completely dark, reflecting the reddish hues of filtered sunlight scattered into the shadow by Earth's atmosphere.   Notable APOD Submissions: Lunar Eclipse of 2021 November 19\",\n",
       "  'hdurl': 'https://apod.nasa.gov/apod/image/2111/Gout_EclipseCollage-small.jpg',\n",
       "  'media_type': 'image',\n",
       "  'service_version': 'v1',\n",
       "  'title': \"At the Shadow's Edge\",\n",
       "  'url': 'https://apod.nasa.gov/apod/image/2111/Gout_EclipseCollage-1024.jpg'},\n",
       " {'date': '2010-08-08',\n",
       "  'explanation': \"Two hours before closest approach to Neptune in 1989, the Voyager 2 robot spacecraft snapped this picture. Clearly visible for the first time were long light-colored cirrus-type clouds floating high in Neptune's atmosphere. Shadows of these clouds can even be seen on lower cloud decks.  Most of Neptune's atmosphere is made of hydrogen and helium, which is invisible.  Neptune's blue color therefore comes from smaller amounts of atmospheric methane, which preferentially absorbs red light.  Neptune has the fastest winds in the Solar System, with gusts reaching 2000 kilometers per hour.  Speculation holds that diamonds may be created in the dense hot conditions that exist under the cloud tops of Uranus and Neptune.\",\n",
       "  'hdurl': 'https://apod.nasa.gov/apod/image/1008/neptune_voyager2_big.jpg',\n",
       "  'media_type': 'image',\n",
       "  'service_version': 'v1',\n",
       "  'title': 'Two Hours Before Neptune',\n",
       "  'url': 'https://apod.nasa.gov/apod/image/1008/neptune_voyager2.jpg'},\n",
       " {'date': '2004-01-22',\n",
       "  'explanation': \"After leaving its nest, the Spirit rover turned to capture this spectacular view over the Columbia Memorial Station and the floor of Gusev crater on the 16th sol of its visit to Mars. The sharp picture looks toward the northeast. Over 2 meters wide, the lander platform surrounded by deflated airbags, and the egress ramp used by the rover to complete its journey to the martian surface, are in the foreground. In the background lie Spirit's likely future waypoints and destination - initially toward a ridge on the left bordering an impact crater about 200 meters across and finally toward the hills visible on the horizon at the right. The crater is about 250 meters away while the hills are about 3 kilometers distant. Searching for evidence of ancient watery environments, Spirit's scientific instruments have begun to return data on the composition of the surface in the lander's vicinity, suggesting that iron-bearing volcanic minerals are present.\",\n",
       "  'hdurl': 'https://apod.nasa.gov/apod/image/0401/columbiastation_spirit_full.jpg',\n",
       "  'media_type': 'image',\n",
       "  'service_version': 'v1',\n",
       "  'title': 'Columbia Memorial Station',\n",
       "  'url': 'https://apod.nasa.gov/apod/image/0401/columbiastation_spirit_c3.jpg'}]"
      ]
     },
     "execution_count": 9,
     "metadata": {},
     "output_type": "execute_result"
    }
   ],
   "source": [
    "# Effectue la requête\n",
    "r = requests.get(URL, params=params)\n",
    "r.json()"
   ]
  },
  {
   "cell_type": "code",
   "execution_count": 10,
   "metadata": {},
   "outputs": [
    {
     "data": {
      "text/html": [
       "<div>\n",
       "<style scoped>\n",
       "    .dataframe tbody tr th:only-of-type {\n",
       "        vertical-align: middle;\n",
       "    }\n",
       "\n",
       "    .dataframe tbody tr th {\n",
       "        vertical-align: top;\n",
       "    }\n",
       "\n",
       "    .dataframe thead th {\n",
       "        text-align: right;\n",
       "    }\n",
       "</style>\n",
       "<table border=\"1\" class=\"dataframe\">\n",
       "  <thead>\n",
       "    <tr style=\"text-align: right;\">\n",
       "      <th></th>\n",
       "      <th>copyright</th>\n",
       "      <th>date</th>\n",
       "      <th>explanation</th>\n",
       "      <th>hdurl</th>\n",
       "      <th>media_type</th>\n",
       "      <th>service_version</th>\n",
       "      <th>title</th>\n",
       "      <th>url</th>\n",
       "    </tr>\n",
       "  </thead>\n",
       "  <tbody>\n",
       "    <tr>\n",
       "      <th>0</th>\n",
       "      <td>Clear Skies</td>\n",
       "      <td>2013-12-04</td>\n",
       "      <td>This new comet is quite photogenic. Comet Love...</td>\n",
       "      <td>https://apod.nasa.gov/apod/image/1312/lovejoyr...</td>\n",
       "      <td>image</td>\n",
       "      <td>v1</td>\n",
       "      <td>Comet Lovejoy through M�rby Castle Ruins</td>\n",
       "      <td>https://apod.nasa.gov/apod/image/1312/lovejoyr...</td>\n",
       "    </tr>\n",
       "    <tr>\n",
       "      <th>1</th>\n",
       "      <td>Jean-Francois Gout</td>\n",
       "      <td>2021-11-25</td>\n",
       "      <td>Shaped like a cone tapering into space, the Ea...</td>\n",
       "      <td>https://apod.nasa.gov/apod/image/2111/Gout_Ecl...</td>\n",
       "      <td>image</td>\n",
       "      <td>v1</td>\n",
       "      <td>At the Shadow's Edge</td>\n",
       "      <td>https://apod.nasa.gov/apod/image/2111/Gout_Ecl...</td>\n",
       "    </tr>\n",
       "    <tr>\n",
       "      <th>2</th>\n",
       "      <td>NaN</td>\n",
       "      <td>2010-08-08</td>\n",
       "      <td>Two hours before closest approach to Neptune i...</td>\n",
       "      <td>https://apod.nasa.gov/apod/image/1008/neptune_...</td>\n",
       "      <td>image</td>\n",
       "      <td>v1</td>\n",
       "      <td>Two Hours Before Neptune</td>\n",
       "      <td>https://apod.nasa.gov/apod/image/1008/neptune_...</td>\n",
       "    </tr>\n",
       "    <tr>\n",
       "      <th>3</th>\n",
       "      <td>NaN</td>\n",
       "      <td>2004-01-22</td>\n",
       "      <td>After leaving its nest, the Spirit rover turne...</td>\n",
       "      <td>https://apod.nasa.gov/apod/image/0401/columbia...</td>\n",
       "      <td>image</td>\n",
       "      <td>v1</td>\n",
       "      <td>Columbia Memorial Station</td>\n",
       "      <td>https://apod.nasa.gov/apod/image/0401/columbia...</td>\n",
       "    </tr>\n",
       "  </tbody>\n",
       "</table>\n",
       "</div>"
      ],
      "text/plain": [
       "            copyright        date  \\\n",
       "0         Clear Skies  2013-12-04   \n",
       "1  Jean-Francois Gout  2021-11-25   \n",
       "2                 NaN  2010-08-08   \n",
       "3                 NaN  2004-01-22   \n",
       "\n",
       "                                         explanation  \\\n",
       "0  This new comet is quite photogenic. Comet Love...   \n",
       "1  Shaped like a cone tapering into space, the Ea...   \n",
       "2  Two hours before closest approach to Neptune i...   \n",
       "3  After leaving its nest, the Spirit rover turne...   \n",
       "\n",
       "                                               hdurl media_type  \\\n",
       "0  https://apod.nasa.gov/apod/image/1312/lovejoyr...      image   \n",
       "1  https://apod.nasa.gov/apod/image/2111/Gout_Ecl...      image   \n",
       "2  https://apod.nasa.gov/apod/image/1008/neptune_...      image   \n",
       "3  https://apod.nasa.gov/apod/image/0401/columbia...      image   \n",
       "\n",
       "  service_version                                     title  \\\n",
       "0              v1  Comet Lovejoy through M�rby Castle Ruins   \n",
       "1              v1                      At the Shadow's Edge   \n",
       "2              v1                  Two Hours Before Neptune   \n",
       "3              v1                 Columbia Memorial Station   \n",
       "\n",
       "                                                 url  \n",
       "0  https://apod.nasa.gov/apod/image/1312/lovejoyr...  \n",
       "1  https://apod.nasa.gov/apod/image/2111/Gout_Ecl...  \n",
       "2  https://apod.nasa.gov/apod/image/1008/neptune_...  \n",
       "3  https://apod.nasa.gov/apod/image/0401/columbia...  "
      ]
     },
     "execution_count": 10,
     "metadata": {},
     "output_type": "execute_result"
    }
   ],
   "source": [
    "# Affichage dans un DataFrame\n",
    "pd.DataFrame(r.json())"
   ]
  },
  {
   "cell_type": "markdown",
   "metadata": {},
   "source": [
    "### Ecriture du résultat dans un fichier JSON"
   ]
  },
  {
   "cell_type": "code",
   "execution_count": 11,
   "metadata": {},
   "outputs": [],
   "source": [
    "# Définit les paramètres de la requête\n",
    "params = {\n",
    "    'api_key': API_KEY\n",
    "}"
   ]
  },
  {
   "cell_type": "code",
   "execution_count": 12,
   "metadata": {},
   "outputs": [
    {
     "data": {
      "text/plain": [
       "{'copyright': '\\nDzmitry Kananovich\\n',\n",
       " 'date': '2023-11-13',\n",
       " 'explanation': 'Have you ever seen the Andromeda galaxy? Although M31 appears as a faint and fuzzy blob to the unaided eye, the light you see will be over two million years old, making it likely the oldest light you ever will see directly. The featured image captured Andromeda just before it set behind the Swiss Alps early last year. As cool as it may be to see this neighboring galaxy to our Milky Way with your own eyes, long duration camera exposures can pick up many faint and breathtaking details. The image is composite of foreground and background images taken consecutively with the same camera and from the same location.  Recent data indicate that our Milky Way Galaxy will collide and coalesce with Andromeda galaxy in a few billion years.   Follow APOD on Facebook in: Arabic, English, Catalan, Portuguese, or Taiwanese',\n",
       " 'hdurl': 'https://apod.nasa.gov/apod/image/2311/M31Alps_Kananovich_1639.jpg',\n",
       " 'media_type': 'image',\n",
       " 'service_version': 'v1',\n",
       " 'title': 'Andromeda over the Alps',\n",
       " 'url': 'https://apod.nasa.gov/apod/image/2311/M31Alps_Kananovich_960.jpg'}"
      ]
     },
     "execution_count": 12,
     "metadata": {},
     "output_type": "execute_result"
    }
   ],
   "source": [
    "# Effectue la requête\n",
    "r = requests.get(URL, params=params)\n",
    "r.json()"
   ]
  },
  {
   "cell_type": "code",
   "execution_count": 13,
   "metadata": {},
   "outputs": [],
   "source": [
    "# Définit le nom du fichier de destination\n",
    "filename = './' + JSON_FOLDER + '/' + r.json()['date'] + '.json'\n",
    "\n",
    "# Définit le dictionnaire à écrire\n",
    "data = r.json()\n",
    "\n",
    "# Crée le fichier et écrit les données de la requêtes\n",
    "with open(filename, 'w', encoding='utf-8') as f:\n",
    "    json.dump(data, f, ensure_ascii=False, indent=4)"
   ]
  },
  {
   "cell_type": "markdown",
   "metadata": {},
   "source": [
    "### Ecriture du résultat d'une plage de dates dans plusieurs fichiers JSON"
   ]
  },
  {
   "cell_type": "markdown",
   "metadata": {},
   "source": [
    "Ici, on effectue une requête sur une plage de date puis on écrit le résultat dans **un fichier JSON par date**."
   ]
  },
  {
   "cell_type": "code",
   "execution_count": 14,
   "metadata": {},
   "outputs": [],
   "source": [
    "# Définit les paramètres de la requête\n",
    "params = {\n",
    "    'api_key': API_KEY,\n",
    "    'start_date': '2023-10-01',\n",
    "    'end_date': '2023-11-13',\n",
    "    'thumbs': True\n",
    "}"
   ]
  },
  {
   "cell_type": "code",
   "execution_count": 15,
   "metadata": {},
   "outputs": [],
   "source": [
    "# Effectue la requête\n",
    "r = requests.get(URL, params=params)"
   ]
  },
  {
   "cell_type": "code",
   "execution_count": 16,
   "metadata": {},
   "outputs": [],
   "source": [
    "# Boucle sur chaque élément du résultat de la requête\n",
    "for i in range (len(r.json())):\n",
    "    # Définit le nom du fichier de destination\n",
    "    filename = './' + JSON_FOLDER + '/' + r.json()[i]['date'] + '.json'\n",
    "\n",
    "    # Définit le dictionnaire à écrire\n",
    "    data = r.json()[i]\n",
    "\n",
    "    # Crée le fichier et écrit les données de la requêtes\n",
    "    with open(filename, 'w', encoding='utf-8') as f:\n",
    "        json.dump(data, f, ensure_ascii=False, indent=4)"
   ]
  }
 ],
 "metadata": {
  "kernelspec": {
   "display_name": "pp-env",
   "language": "python",
   "name": "python3"
  },
  "language_info": {
   "codemirror_mode": {
    "name": "ipython",
    "version": 3
   },
   "file_extension": ".py",
   "mimetype": "text/x-python",
   "name": "python",
   "nbconvert_exporter": "python",
   "pygments_lexer": "ipython3",
   "version": "3.12.0"
  }
 },
 "nbformat": 4,
 "nbformat_minor": 2
}

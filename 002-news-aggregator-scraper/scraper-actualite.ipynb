{
 "cells": [
  {
   "cell_type": "code",
   "execution_count": 1,
   "metadata": {},
   "outputs": [],
   "source": [
    "import requests\n",
    "from bs4 import BeautifulSoup\n",
    "import pandas as pd"
   ]
  },
  {
   "cell_type": "code",
   "execution_count": 2,
   "metadata": {},
   "outputs": [],
   "source": [
    "r = requests.get('https://www.lindabgroup.com/media/news-media/press-releases/')"
   ]
  },
  {
   "cell_type": "code",
   "execution_count": 3,
   "metadata": {},
   "outputs": [
    {
     "name": "stdout",
     "output_type": "stream",
     "text": [
      "\n",
      "\n",
      "\n",
      "\n",
      "\n",
      "<!DOCTYPE html>\n",
      "<html>\n",
      "\n",
      "<head>\n",
      "    <link rel=\"shortcut icon\" href=\"/assets/images/favicons/favicon-32x32.png\" />\n",
      "    <link rel=\"preconnect\" href=\"https://dc.services.visualstudio.com\" crossorigin>\n",
      "    <link rel=\"preconnect\" href=\"https://www.googletagmanager.com\" crossorigin>\n",
      "    <link rel=\"preconnect\" href=\"https://www.google-analytics.com\" crossorigin>\n",
      "    <link rel=\"preconnect\" href=\"https://px.ads.linkedin.com\" crossorigin>\n",
      "    <link rel=\"preconnect\" href=\"https://resource\n"
     ]
    }
   ],
   "source": [
    "print(r.text[0:500])"
   ]
  },
  {
   "cell_type": "code",
   "execution_count": 4,
   "metadata": {},
   "outputs": [],
   "source": [
    "soup = BeautifulSoup(r.text, 'html.parser')"
   ]
  },
  {
   "cell_type": "code",
   "execution_count": 5,
   "metadata": {},
   "outputs": [],
   "source": [
    "results = soup.find_all('li', attrs={'class':'sc-lcpuFF jQhGwS'})"
   ]
  },
  {
   "cell_type": "code",
   "execution_count": 6,
   "metadata": {},
   "outputs": [
    {
     "data": {
      "text/plain": [
       "10"
      ]
     },
     "execution_count": 6,
     "metadata": {},
     "output_type": "execute_result"
    }
   ],
   "source": [
    "len(results)"
   ]
  },
  {
   "cell_type": "code",
   "execution_count": 7,
   "metadata": {},
   "outputs": [
    {
     "data": {
      "text/plain": [
       "[<li class=\"sc-lcpuFF jQhGwS\"><a class=\"sc-bqjOQT hoeMmO\" href=\"/media/news-media/press-releases/press-release/A385F6DF9B9E9FEB\"><p class=\"sc-jkCMRl gprFzM\"><span class=\"sc-crNyjn gJmuUE\">Regulatory</span><span>July 31, 2023 18:56 CET</span></p><h2 class=\"sc-cpHetk kqOOrm\">Change in number of shares in Lindab’s possession</h2></a></li>,\n",
       " <li class=\"sc-lcpuFF jQhGwS\"><a class=\"sc-bqjOQT hoeMmO\" href=\"/media/news-media/press-releases/press-release/4E6CD4217BA862DD\"><p class=\"sc-jkCMRl gprFzM\"><span class=\"sc-crNyjn gJmuUE\">Regulatory</span><span>July 21, 2023 07:40 CET</span></p><h2 class=\"sc-cpHetk kqOOrm\">Lindab’s Interim Report January – June 2023: Ventilation shows strength and expands in Europe</h2></a></li>,\n",
       " <li class=\"sc-lcpuFF jQhGwS\"><a class=\"sc-bqjOQT hoeMmO\" href=\"/media/news-media/press-releases/press-release/63875BDB76F7CC7C\"><p class=\"sc-jkCMRl gprFzM\"><span class=\"sc-crNyjn gJmuUE\">Non-regulatory</span><span>June 20, 2023 08:00 CET</span></p><h2 class=\"sc-cpHetk kqOOrm\">Lindab first in the world with ventilation ducts in fossil-free steel</h2></a></li>]"
      ]
     },
     "execution_count": 7,
     "metadata": {},
     "output_type": "execute_result"
    }
   ],
   "source": [
    "results[0:3]"
   ]
  },
  {
   "cell_type": "code",
   "execution_count": 8,
   "metadata": {},
   "outputs": [
    {
     "data": {
      "text/plain": [
       "<li class=\"sc-lcpuFF jQhGwS\"><a class=\"sc-bqjOQT hoeMmO\" href=\"/media/news-media/press-releases/press-release/A385F6DF9B9E9FEB\"><p class=\"sc-jkCMRl gprFzM\"><span class=\"sc-crNyjn gJmuUE\">Regulatory</span><span>July 31, 2023 18:56 CET</span></p><h2 class=\"sc-cpHetk kqOOrm\">Change in number of shares in Lindab’s possession</h2></a></li>"
      ]
     },
     "execution_count": 8,
     "metadata": {},
     "output_type": "execute_result"
    }
   ],
   "source": [
    "first_result = results[0]\n",
    "first_result"
   ]
  },
  {
   "cell_type": "code",
   "execution_count": 9,
   "metadata": {},
   "outputs": [
    {
     "data": {
      "text/plain": [
       "'Change in number of shares in Lindab’s possession'"
      ]
     },
     "execution_count": 9,
     "metadata": {},
     "output_type": "execute_result"
    }
   ],
   "source": [
    "first_result.find('h2').text"
   ]
  },
  {
   "cell_type": "code",
   "execution_count": 10,
   "metadata": {},
   "outputs": [
    {
     "data": {
      "text/plain": [
       "'https://www.lindabgroup.com/media/news-media/press-releases/press-release/A385F6DF9B9E9FEB'"
      ]
     },
     "execution_count": 10,
     "metadata": {},
     "output_type": "execute_result"
    }
   ],
   "source": [
    "'https://www.lindabgroup.com' + first_result.find('a')['href']"
   ]
  },
  {
   "cell_type": "code",
   "execution_count": 11,
   "metadata": {},
   "outputs": [
    {
     "data": {
      "text/plain": [
       "'July 31, 2023'"
      ]
     },
     "execution_count": 11,
     "metadata": {},
     "output_type": "execute_result"
    }
   ],
   "source": [
    "first_result.find_all('span')[1].text[:-10]"
   ]
  },
  {
   "cell_type": "code",
   "execution_count": 12,
   "metadata": {},
   "outputs": [],
   "source": [
    "records=[]\n",
    "for result in results:\n",
    "    date = result.find_all('span')[1].text[:-10]\n",
    "    news = result.find('h2').text\n",
    "    url = 'https://www.lindabgroup.com' + result.find('a')['href']\n",
    "    records.append((date, news, url))"
   ]
  },
  {
   "cell_type": "code",
   "execution_count": 13,
   "metadata": {},
   "outputs": [],
   "source": [
    "df = pd.DataFrame(records, columns=['date', 'news', 'url'])"
   ]
  },
  {
   "cell_type": "code",
   "execution_count": 14,
   "metadata": {},
   "outputs": [
    {
     "data": {
      "text/html": [
       "<div>\n",
       "<style scoped>\n",
       "    .dataframe tbody tr th:only-of-type {\n",
       "        vertical-align: middle;\n",
       "    }\n",
       "\n",
       "    .dataframe tbody tr th {\n",
       "        vertical-align: top;\n",
       "    }\n",
       "\n",
       "    .dataframe thead th {\n",
       "        text-align: right;\n",
       "    }\n",
       "</style>\n",
       "<table border=\"1\" class=\"dataframe\">\n",
       "  <thead>\n",
       "    <tr style=\"text-align: right;\">\n",
       "      <th></th>\n",
       "      <th>date</th>\n",
       "      <th>news</th>\n",
       "      <th>url</th>\n",
       "    </tr>\n",
       "  </thead>\n",
       "  <tbody>\n",
       "    <tr>\n",
       "      <th>0</th>\n",
       "      <td>July 31, 2023</td>\n",
       "      <td>Change in number of shares in Lindab’s possession</td>\n",
       "      <td>https://www.lindabgroup.com/media/news-media/p...</td>\n",
       "    </tr>\n",
       "    <tr>\n",
       "      <th>1</th>\n",
       "      <td>July 21, 2023</td>\n",
       "      <td>Lindab’s Interim Report January – June 2023: V...</td>\n",
       "      <td>https://www.lindabgroup.com/media/news-media/p...</td>\n",
       "    </tr>\n",
       "    <tr>\n",
       "      <th>2</th>\n",
       "      <td>June 20, 2023</td>\n",
       "      <td>Lindab first in the world with ventilation duc...</td>\n",
       "      <td>https://www.lindabgroup.com/media/news-media/p...</td>\n",
       "    </tr>\n",
       "    <tr>\n",
       "      <th>3</th>\n",
       "      <td>May 11, 2023</td>\n",
       "      <td>Annual General Meeting 2023 in Lindab Internat...</td>\n",
       "      <td>https://www.lindabgroup.com/media/news-media/p...</td>\n",
       "    </tr>\n",
       "    <tr>\n",
       "      <th>4</th>\n",
       "      <td>May 03, 2023</td>\n",
       "      <td>Lindab’s Interim Report January – March 2023: ...</td>\n",
       "      <td>https://www.lindabgroup.com/media/news-media/p...</td>\n",
       "    </tr>\n",
       "  </tbody>\n",
       "</table>\n",
       "</div>"
      ],
      "text/plain": [
       "            date                                               news  \\\n",
       "0  July 31, 2023  Change in number of shares in Lindab’s possession   \n",
       "1  July 21, 2023  Lindab’s Interim Report January – June 2023: V...   \n",
       "2  June 20, 2023  Lindab first in the world with ventilation duc...   \n",
       "3   May 11, 2023  Annual General Meeting 2023 in Lindab Internat...   \n",
       "4   May 03, 2023  Lindab’s Interim Report January – March 2023: ...   \n",
       "\n",
       "                                                 url  \n",
       "0  https://www.lindabgroup.com/media/news-media/p...  \n",
       "1  https://www.lindabgroup.com/media/news-media/p...  \n",
       "2  https://www.lindabgroup.com/media/news-media/p...  \n",
       "3  https://www.lindabgroup.com/media/news-media/p...  \n",
       "4  https://www.lindabgroup.com/media/news-media/p...  "
      ]
     },
     "execution_count": 14,
     "metadata": {},
     "output_type": "execute_result"
    }
   ],
   "source": [
    "df.head()"
   ]
  },
  {
   "cell_type": "code",
   "execution_count": 15,
   "metadata": {},
   "outputs": [],
   "source": [
    "df['date'] = pd.to_datetime(df['date'])"
   ]
  },
  {
   "cell_type": "code",
   "execution_count": 16,
   "metadata": {},
   "outputs": [
    {
     "data": {
      "text/html": [
       "<div>\n",
       "<style scoped>\n",
       "    .dataframe tbody tr th:only-of-type {\n",
       "        vertical-align: middle;\n",
       "    }\n",
       "\n",
       "    .dataframe tbody tr th {\n",
       "        vertical-align: top;\n",
       "    }\n",
       "\n",
       "    .dataframe thead th {\n",
       "        text-align: right;\n",
       "    }\n",
       "</style>\n",
       "<table border=\"1\" class=\"dataframe\">\n",
       "  <thead>\n",
       "    <tr style=\"text-align: right;\">\n",
       "      <th></th>\n",
       "      <th>date</th>\n",
       "      <th>news</th>\n",
       "      <th>url</th>\n",
       "    </tr>\n",
       "  </thead>\n",
       "  <tbody>\n",
       "    <tr>\n",
       "      <th>0</th>\n",
       "      <td>2023-07-31</td>\n",
       "      <td>Change in number of shares in Lindab’s possession</td>\n",
       "      <td>https://www.lindabgroup.com/media/news-media/p...</td>\n",
       "    </tr>\n",
       "    <tr>\n",
       "      <th>1</th>\n",
       "      <td>2023-07-21</td>\n",
       "      <td>Lindab’s Interim Report January – June 2023: V...</td>\n",
       "      <td>https://www.lindabgroup.com/media/news-media/p...</td>\n",
       "    </tr>\n",
       "    <tr>\n",
       "      <th>2</th>\n",
       "      <td>2023-06-20</td>\n",
       "      <td>Lindab first in the world with ventilation duc...</td>\n",
       "      <td>https://www.lindabgroup.com/media/news-media/p...</td>\n",
       "    </tr>\n",
       "    <tr>\n",
       "      <th>3</th>\n",
       "      <td>2023-05-11</td>\n",
       "      <td>Annual General Meeting 2023 in Lindab Internat...</td>\n",
       "      <td>https://www.lindabgroup.com/media/news-media/p...</td>\n",
       "    </tr>\n",
       "    <tr>\n",
       "      <th>4</th>\n",
       "      <td>2023-05-03</td>\n",
       "      <td>Lindab’s Interim Report January – March 2023: ...</td>\n",
       "      <td>https://www.lindabgroup.com/media/news-media/p...</td>\n",
       "    </tr>\n",
       "  </tbody>\n",
       "</table>\n",
       "</div>"
      ],
      "text/plain": [
       "        date                                               news  \\\n",
       "0 2023-07-31  Change in number of shares in Lindab’s possession   \n",
       "1 2023-07-21  Lindab’s Interim Report January – June 2023: V...   \n",
       "2 2023-06-20  Lindab first in the world with ventilation duc...   \n",
       "3 2023-05-11  Annual General Meeting 2023 in Lindab Internat...   \n",
       "4 2023-05-03  Lindab’s Interim Report January – March 2023: ...   \n",
       "\n",
       "                                                 url  \n",
       "0  https://www.lindabgroup.com/media/news-media/p...  \n",
       "1  https://www.lindabgroup.com/media/news-media/p...  \n",
       "2  https://www.lindabgroup.com/media/news-media/p...  \n",
       "3  https://www.lindabgroup.com/media/news-media/p...  \n",
       "4  https://www.lindabgroup.com/media/news-media/p...  "
      ]
     },
     "execution_count": 16,
     "metadata": {},
     "output_type": "execute_result"
    }
   ],
   "source": [
    "df.head()"
   ]
  }
 ],
 "metadata": {
  "kernelspec": {
   "display_name": "pp-env",
   "language": "python",
   "name": "python3"
  },
  "language_info": {
   "codemirror_mode": {
    "name": "ipython",
    "version": 3
   },
   "file_extension": ".py",
   "mimetype": "text/x-python",
   "name": "python",
   "nbconvert_exporter": "python",
   "pygments_lexer": "ipython3",
   "version": "3.11.2"
  },
  "orig_nbformat": 4
 },
 "nbformat": 4,
 "nbformat_minor": 2
}

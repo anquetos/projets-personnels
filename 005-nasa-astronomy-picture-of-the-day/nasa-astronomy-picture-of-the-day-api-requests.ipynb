{
 "cells": [
  {
   "cell_type": "code",
   "execution_count": 1,
   "metadata": {},
   "outputs": [],
   "source": [
    "# Importe les librairies\n",
    "import requests\n",
    "import json\n",
    "import pandas as pd"
   ]
  },
  {
   "cell_type": "markdown",
   "metadata": {},
   "source": [
    "# NASA - Astronomy Picture of the Day (APOD) API requests"
   ]
  },
  {
   "cell_type": "markdown",
   "metadata": {},
   "source": [
    "* Ce *notebook* contient différents essais de requêtes sur l'API APOD de la NASA\n",
    "* Pour effectuer les requêtes il est nécessaire de faire une demande de clé sur le site [NASA Open APIs](https://api.nasa.gov/).\n",
    "* Dans le code ci-dessous, et pour des raisons de confidentialité, la clé est lue depuis le fichier `api_key.json` sous cette forme :<br><br>\n",
    "    >```python\n",
    "    >{\n",
    "    >    \"api_key\": \"VOTRE_CLE_API\"\n",
    "    >}\n",
    "    >``` \n"
   ]
  },
  {
   "cell_type": "markdown",
   "metadata": {},
   "source": [
    "<img title='Red Aurora over Italy' src='./images/red-aurora-italy-hofer-1080.jpg' width='480px'>"
   ]
  },
  {
   "cell_type": "markdown",
   "metadata": {},
   "source": [
    "## Sommaire\n",
    "* [Utilisation APOD API](#utilisation-apod-api)\n",
    "    * [HTTP Request](#http-request)\n",
    "    * [Query parameters](#query-parameters)\n",
    "    * [Example query](#example-query)\n",
    "* [Requêtes sur l'API](#requêtes-sur-lapi)\n",
    "    * [Url et clé](#url-et-clé)\n",
    "    * [Requête simple](#requête-simple)\n",
    "    * [Requête sur une plage de dates](#requête-sur-une-plage-de-dates)\n",
    "    * [Requête avec nombre d'images aléatoires](#requête-avec-nombre-dimages-aléatoires)\n",
    "    * [Ecriture du résultat dans un fichier JSON](#ecriture-du-résultat-dans-un-fichier-json)\n",
    "    * [Ecriture du résultat d'une plage de dates dans plusieurs fichiers JSON](#ecriture-du-résultat-dune-plage-de-dates-dans-plusieurs-fichiers-json)"
   ]
  },
  {
   "cell_type": "markdown",
   "metadata": {},
   "source": [
    "## Utilisation APOD API"
   ]
  },
  {
   "cell_type": "markdown",
   "metadata": {},
   "source": [
    "### HTTP Request"
   ]
  },
  {
   "cell_type": "markdown",
   "metadata": {},
   "source": [
    "`GET https://api.nasa.gov/planetary/apod`\n",
    "\n",
    "**concept_tags are now disabled in this service. Also, an optional return parameter *copyright* is returned if the image is not public domain.**"
   ]
  },
  {
   "cell_type": "markdown",
   "metadata": {},
   "source": [
    "### Query parameters"
   ]
  },
  {
   "cell_type": "markdown",
   "metadata": {},
   "source": [
    "| **Parameter** | **Type** | **Default** | **Description** |\n",
    "|---|---|---|---|\n",
    "| date | YYYY-MM-DD | *today* | The date of the APOD image to retrieve |\n",
    "| start_date | YYYY-MM-DD | none | The start of a date range, when requesting date for a range of dates. Cannot be used with `date`. |\n",
    "| end_date | YYYY-MM-DD | *today* | The end of the date range, when used with `start_date`. |\n",
    "| count | int | none | If this is specified then `count` randomly chosen images will be returned. Cannot be used with `date` or `start_date` and `end_date`. |\n",
    "| concept_tags | bool | False | Return an ordered dictionary of concepts from the APOD explanation |\n",
    "| hd | bool | False | Retrieve the URL for the high resolution image |\n",
    "| thumbs | bool | False | Return the URL of video thumbnail. If an APOD is not a video, this parameter is ignored. |\n",
    "| api_key | string | DEMO_KEY | api.nasa.gov key for expanded usage |"
   ]
  },
  {
   "cell_type": "markdown",
   "metadata": {},
   "source": [
    "### Example query"
   ]
  },
  {
   "cell_type": "markdown",
   "metadata": {},
   "source": [
    "[`https://api.nasa.gov/planetary/apod?api_key=DEMO_KEY`](https://api.nasa.gov/planetary/apod?api_key=DEMO_KEY)"
   ]
  },
  {
   "cell_type": "markdown",
   "metadata": {},
   "source": [
    "## Requêtes sur l'API"
   ]
  },
  {
   "cell_type": "markdown",
   "metadata": {},
   "source": [
    "### Url et clé"
   ]
  },
  {
   "cell_type": "code",
   "execution_count": 2,
   "metadata": {},
   "outputs": [],
   "source": [
    "# Initialise l'url\n",
    "URL = 'https://api.nasa.gov/planetary/apod'\n",
    "\n",
    "# Initialise la clé de l'api depuis un JSON externe\n",
    "f = open('./api_key.json')\n",
    "API_KEY = json.load(f)['api_key']\n",
    "f.close()"
   ]
  },
  {
   "cell_type": "markdown",
   "metadata": {},
   "source": [
    "### Requête simple"
   ]
  },
  {
   "cell_type": "code",
   "execution_count": 3,
   "metadata": {},
   "outputs": [],
   "source": [
    "# Définit les paramètres de la requête\n",
    "params = {\n",
    "    'api_key': API_KEY\n",
    "}"
   ]
  },
  {
   "cell_type": "code",
   "execution_count": 4,
   "metadata": {},
   "outputs": [
    {
     "data": {
      "text/plain": [
       "{'date': '2023-11-07',\n",
       " 'explanation': 'It moved across the surface of Mars -- what was it? A dust devil. Such spinning columns of rising air are heated by the warm surface and are also common in warm and dry areas on planet Earth.  Typically lasting only a few minutes, dust devils become visible as they pick up loose red-colored dust, leaving the darker and heavier sand beneath intact.  Dust devils not only look cool -- they can leave visible trails, and have been credited with unexpected cleanings of the surfaces of solar panels. The images in the featured AI-interpolated video were captured in early August by the Perseverance rover currently searching for signs of ancient life in Jezero Crater. The six-second time-lapse video encapsulates a real duration of just over one minute.  Visible in the distance, the spinning dust devil was estimated to be passing by at about 20 kilometers per hour and extend up about 2 kilometers high.   Your Sky Surprise: What picture did APOD feature on your birthday? (post 1995)',\n",
       " 'media_type': 'video',\n",
       " 'service_version': 'v1',\n",
       " 'title': 'A Martian Dust Devil Spins By',\n",
       " 'url': 'https://www.youtube.com/embed/xB3QIEkNJgs?rel=0'}"
      ]
     },
     "execution_count": 4,
     "metadata": {},
     "output_type": "execute_result"
    }
   ],
   "source": [
    "# Effectue la requête\n",
    "r = requests.get(URL, params=params, timeout=10)\n",
    "r.json()"
   ]
  },
  {
   "cell_type": "markdown",
   "metadata": {},
   "source": [
    "### Requête sur une plage de dates"
   ]
  },
  {
   "cell_type": "code",
   "execution_count": 5,
   "metadata": {},
   "outputs": [],
   "source": [
    "# Définit les paramètres de la requête\n",
    "params = {\n",
    "    'api_key': API_KEY,\n",
    "    'start_date': '2023-11-01',\n",
    "    'end_date': '2023-11-06'\n",
    "}"
   ]
  },
  {
   "cell_type": "code",
   "execution_count": 6,
   "metadata": {},
   "outputs": [
    {
     "data": {
      "text/plain": [
       "[{'copyright': '\\nMaryBeth Kiczenski\\n',\n",
       "  'date': '2023-11-01',\n",
       "  'explanation': \"Part of the Sun disappeared earlier this month, but few people were worried. The missing part, which included the center from some locations, just went behind the Moon in what is known as an annular solar eclipse.  Featured here is an eclipse sequence taken as the Moon was overtaking the rising Sun in the sky. The foreground hill is Factory Butte in Utah, USA. The rays flaring out from the Sun are not real -- they result from camera aperture diffraction and are known as sunstar. The Moon is real, but it is artificially brightened to enhance its outline -- which helps the viewer better visualize the Moon's changing position during this ring-of-fire eclipse. As stunning as this eclipse sequence is, it was considered just practice by the astrophotographer.  The reason? She hopes to use this experience to better photograph the total solar eclipse that will occur over North America on April 8, 2024.   Apply today (USA): Become a NASA Partner Eclipse Ambassador  Eclipse Album: Selected images sent in to APOD\",\n",
       "  'hdurl': 'https://apod.nasa.gov/apod/image/2311/UtahEclipse_Kiczenski_1480.jpg',\n",
       "  'media_type': 'image',\n",
       "  'service_version': 'v1',\n",
       "  'title': 'Annular Solar Eclipse over Utah',\n",
       "  'url': 'https://apod.nasa.gov/apod/image/2311/UtahEclipse_Kiczenski_960.jpg'},\n",
       " {'copyright': 'Marcelo Rivera',\n",
       "  'date': '2023-11-02',\n",
       "  'explanation': \"Named for the southern constellation toward which most of its galaxies can be found, the Fornax Cluster is one of the closest clusters of galaxies. About 62 million light-years away, it's over 20 times more distant than our neighboring Andromeda Galaxy, but only about 10 percent farther along than the better known and more populated Virgo Galaxy Cluster. Seen across this three degree wide field-of-view, almost every yellowish splotch on the image is an elliptical galaxy in the Fornax cluster. Elliptical galaxies NGC 1399 and NGC 1404 are the dominant, bright cluster members toward the bottom center. A standout, large barred spiral galaxy, NGC 1365, is visible on the upper right as a prominent Fornax cluster member.\",\n",
       "  'hdurl': 'https://apod.nasa.gov/apod/image/2311/ClusterFornax.jpg',\n",
       "  'media_type': 'image',\n",
       "  'service_version': 'v1',\n",
       "  'title': 'The Fornax Cluster of Galaxies',\n",
       "  'url': 'https://apod.nasa.gov/apod/image/2311/ClusterFornax1024.jpg'},\n",
       " {'copyright': 'Giorgia Hofer',\n",
       "  'date': '2023-11-03',\n",
       "  'explanation': \"That bright beacon you've seen rising in the east just after sunset is Jupiter. Climbing high in midnight skies, our Solar System's ruling gas giant was at its 2023 opposition, opposite the Sun in planet Earth's sky, on November 2. But only a few days earlier, on October 28, the Moon was at its own opposition. Then both Full Moon and Jupiter could share this telephoto field of view. The celestial scene is composed from two exposures, one long and one short, blended to record bright planet and even brighter Moon during that evening's partial lunar eclipse. Moonlight shining through the thin, high clouds over northern Italy creates the colorful iridescence and lunar corona. Look closely and you'll also spot some of Jupiter's Galilean moons.\",\n",
       "  'hdurl': 'https://apod.nasa.gov/apod/image/2311/_GHR7338_3_firma_picc.jpg',\n",
       "  'media_type': 'image',\n",
       "  'service_version': 'v1',\n",
       "  'title': 'Jupiter by Moonlight',\n",
       "  'url': 'https://apod.nasa.gov/apod/image/2311/_GHR7338_3_firma_picc1024.jpg'},\n",
       " {'date': '2023-11-04',\n",
       "  'explanation': \"Last Wednesday the voyaging Lucy spacecraft encountered its first asteroid, 152830 Dinkinesh, and discovered the inner-main belt asteroid has a moon. From a distance of just over 400 kilometers, Lucy's Long-Range Reconnaissance Imager captured this close-up of the binary system during a flyby at 4.5 kilometer per second or around 10,000 miles per hour. A marvelous world, Dinkinesh itself is small, less than 800 meters (about 0.5 miles) across at its widest. Its satellite is seen from the spacecraft's perspective to emerge from behind the primary asteroid. The asteroid moon is estimated to be only about 220 meters wide.\",\n",
       "  'hdurl': 'https://apod.nasa.gov/apod/image/2311/dinkinesh-firstlook-llorri.png',\n",
       "  'media_type': 'image',\n",
       "  'service_version': 'v1',\n",
       "  'title': 'Dinkinesh Moonrise',\n",
       "  'url': 'https://apod.nasa.gov/apod/image/2311/dinkinesh-firstlook-llorri.png'},\n",
       " {'copyright': '\\nOle C. Salomonsen\\n(Arctic Light Photo) \\n',\n",
       "  'date': '2023-11-05',\n",
       "  'explanation': 'It was Halloween and the sky looked like a creature. Exactly which creature, the astrophotographer was unsure (but possibly you can suggest one). Exactly what caused this  eerie apparition in 2013 was sure: one of the best auroral displays that year. This spectacular aurora had an unusually high degree of detail. Pictured here, the vivid green and purple  auroral colors are caused by high atmospheric oxygen and nitrogen reacting to a burst of incoming electrons.  Birch trees in Tromsø, Norway formed an also eerie foreground. Frequently, new photogenic auroras accompany new geomagnetic storms.   Almost Hyperspace: Random APOD Generator',\n",
       "  'hdurl': 'https://apod.nasa.gov/apod/image/2311/CreatureAurora_Salomonsen_960.jpg',\n",
       "  'media_type': 'image',\n",
       "  'service_version': 'v1',\n",
       "  'title': 'Creature Aurora Over Norway',\n",
       "  'url': 'https://apod.nasa.gov/apod/image/2311/CreatureAurora_Salomonsen_960.jpg'},\n",
       " {'copyright': '\\nGiorgia Hofer\\n',\n",
       "  'date': '2023-11-06',\n",
       "  'explanation': \"What was that red glow on the horizon last night? Aurora. Our unusually active Sun produced a surface explosion a few days ago that sent out a burst of electrons, protons, and more massive charged nuclei. This coronal mass ejection (CME) triggered auroras here on Earth that are being reported unusually far south in Earth's northern hemisphere.  For example, this was the first time that the astrophotographer captured aurora from her home country of Italy. Additionally, many images from these auroras appear quite red in color.  In the featured image, the town of Comelico Superiore in the Italian Alps is visible in the foreground, with the central band of our Milky Way galaxy seen rising from the lower left. What draws the eye the most, though, is the bright red aurora on the far right. The featured image is a composite with the foreground and background images taken consecutively with the same camera and from the same location.   Aurora Album: Selected images sent in to APOD\",\n",
       "  'hdurl': 'https://apod.nasa.gov/apod/image/2311/RedAuroraItaly_Hofer_1200.jpg',\n",
       "  'media_type': 'image',\n",
       "  'service_version': 'v1',\n",
       "  'title': 'Red Aurora over Italy',\n",
       "  'url': 'https://apod.nasa.gov/apod/image/2311/RedAuroraItaly_Hofer_1080.jpg'}]"
      ]
     },
     "execution_count": 6,
     "metadata": {},
     "output_type": "execute_result"
    }
   ],
   "source": [
    "# Effectue la requête\n",
    "r = requests.get(URL, params=params)\n",
    "r.json()"
   ]
  },
  {
   "cell_type": "markdown",
   "metadata": {},
   "source": [
    "### Requête avec nombre d'images aléatoires"
   ]
  },
  {
   "cell_type": "code",
   "execution_count": 122,
   "metadata": {},
   "outputs": [],
   "source": [
    "# Définit les paramètres de la requête\n",
    "params = {\n",
    "    'api_key': API_KEY,\n",
    "    'count': '4'\n",
    "}"
   ]
  },
  {
   "cell_type": "code",
   "execution_count": 123,
   "metadata": {},
   "outputs": [
    {
     "data": {
      "text/plain": [
       "[{'date': '2010-06-14',\n",
       "  'explanation': \"How was the unusual Red Rectangle nebula created? At the nebula's center is an aging binary star system that surely powers the nebula but does not, as yet, explain its colors. The unusual shape of the Red Rectangle is likely due to a thick dust torus which pinches the otherwise spherical outflow into tip-touching cone shapes. Because we view the torus edge-on, the boundary edges of the cone shapes seem to form an X. The distinct rungs suggest the outflow occurs in fits and starts. The unusual colors of the nebula are less well understood, however, and current speculation holds that they are partly provided by hydrocarbon molecules that may actually be building blocks for organic life. The Red Rectangle nebula lies about 2,300 light years away towards the constellation of the Unicorn (Monoceros). The nebula is shown above in unprecedented detail as captured recently by the Hubble Space Telescope. In a few million years, as one of the central stars becomes further depleted of nuclear fuel, the Red Rectangle nebula will likely bloom into a planetary nebula.\",\n",
       "  'hdurl': 'https://apod.nasa.gov/apod/image/1006/redrectangle_hst_big.jpg',\n",
       "  'media_type': 'image',\n",
       "  'service_version': 'v1',\n",
       "  'title': 'The Red Rectangle Nebula from Hubble',\n",
       "  'url': 'https://apod.nasa.gov/apod/image/1006/redrectangle_hst.jpg'},\n",
       " {'copyright': '\\nBen Cooper\\n',\n",
       "  'date': '2017-08-22',\n",
       "  'explanation': \"Will the sky be clear enough to see the eclipse? This question was on the minds of many people attempting to view yesterday's solar eclipse. The path of total darkness crossed the mainland of the USA from coast to coast, from Oregon to South Carolina -- but a partial eclipse occurred above all of North America.  Unfortunately, many locations saw predominantly clouds. One location that did not was a bank of Green River Lake, Wyoming.  There, clouds blocked the Sun intermittantly up to one minute before totality. Parting clouds then moved far enough away to allow the center image of the featured composite sequence to be taken. This image shows the corona of the Sun extending out past the central dark Moon that blocks our familiar Sun. The surrounding images show the partial phases of the solar eclipse both before and after totality.\",\n",
       "  'hdurl': 'https://apod.nasa.gov/apod/image/1708/EclipseWyoming_Cooper_700.jpg',\n",
       "  'media_type': 'image',\n",
       "  'service_version': 'v1',\n",
       "  'title': 'A Total Solar Eclipse over Wyoming',\n",
       "  'url': 'https://apod.nasa.gov/apod/image/1708/EclipseWyoming_Cooper_960.jpg'},\n",
       " {'date': '2013-08-04',\n",
       "  'explanation': \"Like the downtown area of your favorite city and any self-respecting web site ... Io's surface is constantly under construction. This moon of Jupiter holds the distinction of being the Solar System's most volcanically active body -- its bizarre looking surface continuously formed and reformed by lava flows. Generated using 1996 data from NASA's Galileo spacecraft, this high resolution composite image is centered on the side of Io that always faces away from Jupiter. It has been enhanced to emphasize Io's surface brightness and color variations, revealing features as small as 1.5 miles across. The notable absence of impact craters suggests that the entire surface is covered with new volcanic deposits much more rapidly than craters are created. What drives this volcanic powerhouse? A likely energy source is the changing gravitational tides caused by Jupiter and the other Galilean moons as Io orbits the massive gas giant planet. Heating Io's interior, the pumping tides would generate the sulfurous volcanic activity.\",\n",
       "  'hdurl': 'https://apod.nasa.gov/apod/image/1308/ioplus_galileo_1817.jpg',\n",
       "  'media_type': 'image',\n",
       "  'service_version': 'v1',\n",
       "  'title': \"Io's Surface: Under Construction\",\n",
       "  'url': 'https://apod.nasa.gov/apod/image/1308/ioplus_galileo_960.jpg'},\n",
       " {'copyright': 'Peter Jenniskens\\n(SETI Institute/NASA Ames)',\n",
       "  'date': '2009-03-28',\n",
       "  'explanation': 'Small asteroid 2008 TC3 fell to Earth at dawn on October 7, 2008, tracking through the skies over the Nubian Desert in northern Sudan. That event was remarkable because it was the first time an asteroid was detected in space before crashing into planet Earth\\'s atmosphere. It was generally assumed the asteroid itself had completely disintegrated to dust. But, based on satellite and ground observations of the atmospheric impact event, Dr. Mauwia Shaddad of the University of Khartoum, aided by Dr. Peter Jenniskens of the SETI Institute and NASA Ames Research Center, led an expedition of students and staff to the area, combing the desert for surviving fragments. On December 6, 2008, two hours after their search began, the first meteorite was found. The team ultimately collected some 280 small meteorites, now called Almahata Sitta, with a total mass of about 5 kilograms -- the first material recovered from a known asteroid. In stark contrast to the lighter-colored stones, the black fragment in the picture is Almahata Sitta meteorite number 15. About 4 centimeters in diameter, it is seen as it came to rest on the desert floor.  Editor\\'s note: In Arabic, Almahata Sitta is \"Station Six\": a railway stop in the Nubian desert where witnesses reported seeing the bright fireball meteor.',\n",
       "  'hdurl': 'https://apod.nasa.gov/apod/image/0903/Almahata-Sitta15_2048.jpg',\n",
       "  'media_type': 'image',\n",
       "  'service_version': 'v1',\n",
       "  'title': 'Almahata Sitta 15',\n",
       "  'url': 'https://apod.nasa.gov/apod/image/0903/Almahata-Sitta15_c900.jpg'}]"
      ]
     },
     "execution_count": 123,
     "metadata": {},
     "output_type": "execute_result"
    }
   ],
   "source": [
    "# Effectue la requête\n",
    "r = requests.get(URL, params=params)\n",
    "r.json()"
   ]
  },
  {
   "cell_type": "code",
   "execution_count": 124,
   "metadata": {},
   "outputs": [
    {
     "data": {
      "text/html": [
       "<div>\n",
       "<style scoped>\n",
       "    .dataframe tbody tr th:only-of-type {\n",
       "        vertical-align: middle;\n",
       "    }\n",
       "\n",
       "    .dataframe tbody tr th {\n",
       "        vertical-align: top;\n",
       "    }\n",
       "\n",
       "    .dataframe thead th {\n",
       "        text-align: right;\n",
       "    }\n",
       "</style>\n",
       "<table border=\"1\" class=\"dataframe\">\n",
       "  <thead>\n",
       "    <tr style=\"text-align: right;\">\n",
       "      <th></th>\n",
       "      <th>date</th>\n",
       "      <th>explanation</th>\n",
       "      <th>hdurl</th>\n",
       "      <th>media_type</th>\n",
       "      <th>service_version</th>\n",
       "      <th>title</th>\n",
       "      <th>url</th>\n",
       "      <th>copyright</th>\n",
       "    </tr>\n",
       "  </thead>\n",
       "  <tbody>\n",
       "    <tr>\n",
       "      <th>0</th>\n",
       "      <td>2010-06-14</td>\n",
       "      <td>How was the unusual Red Rectangle nebula creat...</td>\n",
       "      <td>https://apod.nasa.gov/apod/image/1006/redrecta...</td>\n",
       "      <td>image</td>\n",
       "      <td>v1</td>\n",
       "      <td>The Red Rectangle Nebula from Hubble</td>\n",
       "      <td>https://apod.nasa.gov/apod/image/1006/redrecta...</td>\n",
       "      <td>NaN</td>\n",
       "    </tr>\n",
       "    <tr>\n",
       "      <th>1</th>\n",
       "      <td>2017-08-22</td>\n",
       "      <td>Will the sky be clear enough to see the eclips...</td>\n",
       "      <td>https://apod.nasa.gov/apod/image/1708/EclipseW...</td>\n",
       "      <td>image</td>\n",
       "      <td>v1</td>\n",
       "      <td>A Total Solar Eclipse over Wyoming</td>\n",
       "      <td>https://apod.nasa.gov/apod/image/1708/EclipseW...</td>\n",
       "      <td>\\nBen Cooper\\n</td>\n",
       "    </tr>\n",
       "    <tr>\n",
       "      <th>2</th>\n",
       "      <td>2013-08-04</td>\n",
       "      <td>Like the downtown area of your favorite city a...</td>\n",
       "      <td>https://apod.nasa.gov/apod/image/1308/ioplus_g...</td>\n",
       "      <td>image</td>\n",
       "      <td>v1</td>\n",
       "      <td>Io's Surface: Under Construction</td>\n",
       "      <td>https://apod.nasa.gov/apod/image/1308/ioplus_g...</td>\n",
       "      <td>NaN</td>\n",
       "    </tr>\n",
       "    <tr>\n",
       "      <th>3</th>\n",
       "      <td>2009-03-28</td>\n",
       "      <td>Small asteroid 2008 TC3 fell to Earth at dawn ...</td>\n",
       "      <td>https://apod.nasa.gov/apod/image/0903/Almahata...</td>\n",
       "      <td>image</td>\n",
       "      <td>v1</td>\n",
       "      <td>Almahata Sitta 15</td>\n",
       "      <td>https://apod.nasa.gov/apod/image/0903/Almahata...</td>\n",
       "      <td>Peter Jenniskens\\n(SETI Institute/NASA Ames)</td>\n",
       "    </tr>\n",
       "  </tbody>\n",
       "</table>\n",
       "</div>"
      ],
      "text/plain": [
       "         date                                        explanation  \\\n",
       "0  2010-06-14  How was the unusual Red Rectangle nebula creat...   \n",
       "1  2017-08-22  Will the sky be clear enough to see the eclips...   \n",
       "2  2013-08-04  Like the downtown area of your favorite city a...   \n",
       "3  2009-03-28  Small asteroid 2008 TC3 fell to Earth at dawn ...   \n",
       "\n",
       "                                               hdurl media_type  \\\n",
       "0  https://apod.nasa.gov/apod/image/1006/redrecta...      image   \n",
       "1  https://apod.nasa.gov/apod/image/1708/EclipseW...      image   \n",
       "2  https://apod.nasa.gov/apod/image/1308/ioplus_g...      image   \n",
       "3  https://apod.nasa.gov/apod/image/0903/Almahata...      image   \n",
       "\n",
       "  service_version                                 title  \\\n",
       "0              v1  The Red Rectangle Nebula from Hubble   \n",
       "1              v1    A Total Solar Eclipse over Wyoming   \n",
       "2              v1      Io's Surface: Under Construction   \n",
       "3              v1                     Almahata Sitta 15   \n",
       "\n",
       "                                                 url  \\\n",
       "0  https://apod.nasa.gov/apod/image/1006/redrecta...   \n",
       "1  https://apod.nasa.gov/apod/image/1708/EclipseW...   \n",
       "2  https://apod.nasa.gov/apod/image/1308/ioplus_g...   \n",
       "3  https://apod.nasa.gov/apod/image/0903/Almahata...   \n",
       "\n",
       "                                      copyright  \n",
       "0                                           NaN  \n",
       "1                                \\nBen Cooper\\n  \n",
       "2                                           NaN  \n",
       "3  Peter Jenniskens\\n(SETI Institute/NASA Ames)  "
      ]
     },
     "execution_count": 124,
     "metadata": {},
     "output_type": "execute_result"
    }
   ],
   "source": [
    "# Affichage dans un DataFrame\n",
    "pd.DataFrame(r.json())"
   ]
  },
  {
   "cell_type": "markdown",
   "metadata": {},
   "source": [
    "### Ecriture du résultat dans un fichier JSON"
   ]
  },
  {
   "cell_type": "code",
   "execution_count": 125,
   "metadata": {},
   "outputs": [],
   "source": [
    "# Définit les paramètres de la requête\n",
    "params = {\n",
    "    'api_key': API_KEY\n",
    "}"
   ]
  },
  {
   "cell_type": "code",
   "execution_count": 126,
   "metadata": {},
   "outputs": [
    {
     "data": {
      "text/plain": [
       "{'copyright': '\\nGiorgia Hofer\\n',\n",
       " 'date': '2023-11-06',\n",
       " 'explanation': \"What was that red glow on the horizon last night? Aurora. Our unusually active Sun produced a surface explosion a few days ago that sent out a burst of electrons, protons, and more massive charged nuclei. This coronal mass ejection (CME) triggered auroras here on Earth that are being reported unusually far south in Earth's northern hemisphere.  For example, this was the first time that the astrophotographer captured aurora from her home country of Italy. Additionally, many images from these auroras appear quite red in color.  In the featured image, the town of Comelico Superiore in the Italian Alps is visible in the foreground, with the central band of our Milky Way galaxy seen rising from the lower left. What draws the eye the most, though, is the bright red aurora on the far right. The featured image is a composite with the foreground and background images taken consecutively with the same camera and from the same location.   Aurora Album: Selected images sent in to APOD\",\n",
       " 'hdurl': 'https://apod.nasa.gov/apod/image/2311/RedAuroraItaly_Hofer_1200.jpg',\n",
       " 'media_type': 'image',\n",
       " 'service_version': 'v1',\n",
       " 'title': 'Red Aurora over Italy',\n",
       " 'url': 'https://apod.nasa.gov/apod/image/2311/RedAuroraItaly_Hofer_1080.jpg'}"
      ]
     },
     "execution_count": 126,
     "metadata": {},
     "output_type": "execute_result"
    }
   ],
   "source": [
    "# Effectue la requête\n",
    "r = requests.get(URL, params=params)\n",
    "r.json()"
   ]
  },
  {
   "cell_type": "code",
   "execution_count": 150,
   "metadata": {},
   "outputs": [],
   "source": [
    "# Définit le nom du fichier de destination\n",
    "filename = './json-files/' + r.json()['date'] + '.json'\n",
    "\n",
    "# Définit le dictionnaire à écrire\n",
    "data = r.json()\n",
    "\n",
    "# Crée le fichier et écrit les données de la requêtes\n",
    "with open(filename, 'w', encoding='utf-8') as f:\n",
    "    json.dump(data, f, ensure_ascii=False, indent=4)"
   ]
  },
  {
   "cell_type": "markdown",
   "metadata": {},
   "source": [
    "### Ecriture du résultat d'une plage de dates dans plusieurs fichiers JSON"
   ]
  },
  {
   "cell_type": "markdown",
   "metadata": {},
   "source": [
    "Ici, on effectue une requête sur une plage de date puis on écrit le résultat dans **un fichier JSON par date**."
   ]
  },
  {
   "cell_type": "code",
   "execution_count": 14,
   "metadata": {},
   "outputs": [],
   "source": [
    "# Définit les paramètres de la requête\n",
    "params = {\n",
    "    'api_key': API_KEY,\n",
    "    'start_date': '2023-10-01',\n",
    "    'end_date': '2023-11-05'\n",
    "}"
   ]
  },
  {
   "cell_type": "code",
   "execution_count": 15,
   "metadata": {},
   "outputs": [],
   "source": [
    "# Effectue la requête\n",
    "r = requests.get(URL, params=params)"
   ]
  },
  {
   "cell_type": "code",
   "execution_count": 17,
   "metadata": {},
   "outputs": [],
   "source": [
    "# Boucle sur chaque élément du résultat de la requête\n",
    "for i in range (len(r.json())):\n",
    "    # Définit le nom du fichier de destination\n",
    "    filename = './json-files/' + r.json()[i]['date'] + '.json'\n",
    "\n",
    "    # Définit le dictionnaire à écrire\n",
    "    data = r.json()[i]\n",
    "\n",
    "    # Crée le fichier et écrit les données de la requêtes\n",
    "    with open(filename, 'w', encoding='utf-8') as f:\n",
    "        json.dump(data, f, ensure_ascii=False, indent=4)"
   ]
  }
 ],
 "metadata": {
  "kernelspec": {
   "display_name": "pp-env",
   "language": "python",
   "name": "python3"
  },
  "language_info": {
   "codemirror_mode": {
    "name": "ipython",
    "version": 3
   },
   "file_extension": ".py",
   "mimetype": "text/x-python",
   "name": "python",
   "nbconvert_exporter": "python",
   "pygments_lexer": "ipython3",
   "version": "3.12.0"
  }
 },
 "nbformat": 4,
 "nbformat_minor": 2
}

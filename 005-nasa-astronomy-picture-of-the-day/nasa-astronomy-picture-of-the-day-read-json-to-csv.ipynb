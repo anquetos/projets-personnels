{
 "cells": [
  {
   "cell_type": "code",
   "execution_count": 166,
   "metadata": {},
   "outputs": [],
   "source": [
    "# Importe les librairies\n",
    "from pathlib import Path\n",
    "import pandas as pd\n",
    "import numpy as np\n",
    "import json"
   ]
  },
  {
   "cell_type": "markdown",
   "metadata": {},
   "source": [
    "# NASA - Astronomy Picture of the Day (APOD) JSON to CSV"
   ]
  },
  {
   "cell_type": "markdown",
   "metadata": {},
   "source": [
    "Ce *notebook* contient :\n",
    "* le code permettant de lire et compiler dans un *DataFrame* l'ensemble des fichiers JSON contenus dans un dossier, puis de l'exporter dans un fichier CSV ;\n",
    "* le code permettant de mettre à jour le fichier CSV en ajoutant les données d'une nouvelle requête (donc d'un nouveau fichier).\n",
    "\n",
    "> Les fichiers JSON dont il est question sont ceux générés par la requête sur l'API APOD de la NASA (voir `nasa-astronomy-picture-of-the-day.ipynb`)."
   ]
  },
  {
   "cell_type": "markdown",
   "metadata": {},
   "source": [
    "## Sommaire"
   ]
  },
  {
   "cell_type": "markdown",
   "metadata": {},
   "source": [
    "* [Création du fichier CSV à partir de plusieurs JSON](#création-du-fichier-csv-à-partir-de-plusieurs-json)\n",
    "* [Mise à jour du fichier CSV à partir d'un JSON](#création-du-fichier-csv-à-partir-de-plusieurs-json)"
   ]
  },
  {
   "cell_type": "markdown",
   "metadata": {},
   "source": [
    "## Création du fichier CSV à partir de plusieurs JSON"
   ]
  },
  {
   "cell_type": "code",
   "execution_count": 167,
   "metadata": {},
   "outputs": [],
   "source": [
    "# Liste les fichiers 'json' contenus dans le dossier 'json-files'\n",
    "files = Path('./json-files').glob('*.json')\n",
    "\n",
    "# Initialise un DataFrame\n",
    "df = pd. DataFrame()\n",
    "\n",
    "# Charge charge fichier 'json' puis l'ajoute au DataFrame\n",
    "for file in files:\n",
    "    with open(file, 'r') as f:\n",
    "        data = json.load(f)\n",
    "\n",
    "    df = pd.concat(\n",
    "        [df, pd.DataFrame.from_dict(data, orient='index').T],\n",
    "        ignore_index=True\n",
    "    )"
   ]
  },
  {
   "cell_type": "code",
   "execution_count": 168,
   "metadata": {},
   "outputs": [
    {
     "data": {
      "text/html": [
       "<div>\n",
       "<style scoped>\n",
       "    .dataframe tbody tr th:only-of-type {\n",
       "        vertical-align: middle;\n",
       "    }\n",
       "\n",
       "    .dataframe tbody tr th {\n",
       "        vertical-align: top;\n",
       "    }\n",
       "\n",
       "    .dataframe thead th {\n",
       "        text-align: right;\n",
       "    }\n",
       "</style>\n",
       "<table border=\"1\" class=\"dataframe\">\n",
       "  <thead>\n",
       "    <tr style=\"text-align: right;\">\n",
       "      <th></th>\n",
       "      <th>copyright</th>\n",
       "      <th>date</th>\n",
       "      <th>explanation</th>\n",
       "      <th>hdurl</th>\n",
       "      <th>media_type</th>\n",
       "      <th>service_version</th>\n",
       "      <th>title</th>\n",
       "      <th>url</th>\n",
       "    </tr>\n",
       "  </thead>\n",
       "  <tbody>\n",
       "    <tr>\n",
       "      <th>0</th>\n",
       "      <td>\\nMaxime Daviron\\n</td>\n",
       "      <td>2023-10-01</td>\n",
       "      <td>A good place to see a ring-of-fire eclipse, it...</td>\n",
       "      <td>https://apod.nasa.gov/apod/image/2310/DesertEc...</td>\n",
       "      <td>image</td>\n",
       "      <td>v1</td>\n",
       "      <td>A Desert Eclipse</td>\n",
       "      <td>https://apod.nasa.gov/apod/image/2310/DesertEc...</td>\n",
       "    </tr>\n",
       "    <tr>\n",
       "      <th>1</th>\n",
       "      <td>\\nNicolas Escurat\\n</td>\n",
       "      <td>2023-10-02</td>\n",
       "      <td>Sometimes lightning occurs out near space.  On...</td>\n",
       "      <td>https://apod.nasa.gov/apod/image/2310/HiResSpr...</td>\n",
       "      <td>image</td>\n",
       "      <td>v1</td>\n",
       "      <td>Sprite Lightning in High Definition</td>\n",
       "      <td>https://apod.nasa.gov/apod/image/2310/HiResSpr...</td>\n",
       "    </tr>\n",
       "    <tr>\n",
       "      <th>2</th>\n",
       "      <td>\\nNASA, \\nESA, \\nHubble, \\nHLA;\\nProcessing &amp; ...</td>\n",
       "      <td>2023-10-03</td>\n",
       "      <td>Do you see the hourglass shape -- or does it s...</td>\n",
       "      <td>https://apod.nasa.gov/apod/image/2310/Hourglas...</td>\n",
       "      <td>image</td>\n",
       "      <td>v1</td>\n",
       "      <td>MyCn 18: The Engraved Hourglass Planetary Nebula</td>\n",
       "      <td>https://apod.nasa.gov/apod/image/2310/Hourglas...</td>\n",
       "    </tr>\n",
       "    <tr>\n",
       "      <th>3</th>\n",
       "      <td>\\nAbdullah Alharbi\\n</td>\n",
       "      <td>2023-10-04</td>\n",
       "      <td>Does this nebula look like the head of a witch...</td>\n",
       "      <td>https://apod.nasa.gov/apod/image/2310/WitchHea...</td>\n",
       "      <td>image</td>\n",
       "      <td>v1</td>\n",
       "      <td>IC 2118: The Witch Head Nebula</td>\n",
       "      <td>https://apod.nasa.gov/apod/image/2310/WitchHea...</td>\n",
       "    </tr>\n",
       "    <tr>\n",
       "      <th>4</th>\n",
       "      <td>Tunc Tezel</td>\n",
       "      <td>2023-10-05</td>\n",
       "      <td>Tracking along a narrow path, the shadow of a ...</td>\n",
       "      <td>https://apod.nasa.gov/apod/image/2310/MoValley...</td>\n",
       "      <td>image</td>\n",
       "      <td>v1</td>\n",
       "      <td>Ring of Fire over Monument Valley</td>\n",
       "      <td>https://apod.nasa.gov/apod/image/2310/MoValley...</td>\n",
       "    </tr>\n",
       "  </tbody>\n",
       "</table>\n",
       "</div>"
      ],
      "text/plain": [
       "                                           copyright        date  \\\n",
       "0                                 \\nMaxime Daviron\\n  2023-10-01   \n",
       "1                                \\nNicolas Escurat\\n  2023-10-02   \n",
       "2  \\nNASA, \\nESA, \\nHubble, \\nHLA;\\nProcessing & ...  2023-10-03   \n",
       "3                               \\nAbdullah Alharbi\\n  2023-10-04   \n",
       "4                                         Tunc Tezel  2023-10-05   \n",
       "\n",
       "                                         explanation  \\\n",
       "0  A good place to see a ring-of-fire eclipse, it...   \n",
       "1  Sometimes lightning occurs out near space.  On...   \n",
       "2  Do you see the hourglass shape -- or does it s...   \n",
       "3  Does this nebula look like the head of a witch...   \n",
       "4  Tracking along a narrow path, the shadow of a ...   \n",
       "\n",
       "                                               hdurl media_type  \\\n",
       "0  https://apod.nasa.gov/apod/image/2310/DesertEc...      image   \n",
       "1  https://apod.nasa.gov/apod/image/2310/HiResSpr...      image   \n",
       "2  https://apod.nasa.gov/apod/image/2310/Hourglas...      image   \n",
       "3  https://apod.nasa.gov/apod/image/2310/WitchHea...      image   \n",
       "4  https://apod.nasa.gov/apod/image/2310/MoValley...      image   \n",
       "\n",
       "  service_version                                             title  \\\n",
       "0              v1                                  A Desert Eclipse   \n",
       "1              v1               Sprite Lightning in High Definition   \n",
       "2              v1  MyCn 18: The Engraved Hourglass Planetary Nebula   \n",
       "3              v1                    IC 2118: The Witch Head Nebula   \n",
       "4              v1                 Ring of Fire over Monument Valley   \n",
       "\n",
       "                                                 url  \n",
       "0  https://apod.nasa.gov/apod/image/2310/DesertEc...  \n",
       "1  https://apod.nasa.gov/apod/image/2310/HiResSpr...  \n",
       "2  https://apod.nasa.gov/apod/image/2310/Hourglas...  \n",
       "3  https://apod.nasa.gov/apod/image/2310/WitchHea...  \n",
       "4  https://apod.nasa.gov/apod/image/2310/MoValley...  "
      ]
     },
     "execution_count": 168,
     "metadata": {},
     "output_type": "execute_result"
    }
   ],
   "source": [
    "# Affiche un aperçu du DataFrame\n",
    "df.head()"
   ]
  },
  {
   "cell_type": "code",
   "execution_count": 169,
   "metadata": {},
   "outputs": [
    {
     "data": {
      "text/plain": [
       "Index(['copyright', 'date', 'explanation', 'hdurl', 'media_type',\n",
       "       'service_version', 'title', 'url'],\n",
       "      dtype='object')"
      ]
     },
     "execution_count": 169,
     "metadata": {},
     "output_type": "execute_result"
    }
   ],
   "source": [
    "# Affiche le nom des colonnes\n",
    "df.columns"
   ]
  },
  {
   "cell_type": "code",
   "execution_count": 170,
   "metadata": {},
   "outputs": [
    {
     "data": {
      "text/plain": [
       "copyright          object\n",
       "date               object\n",
       "explanation        object\n",
       "hdurl              object\n",
       "media_type         object\n",
       "service_version    object\n",
       "title              object\n",
       "url                object\n",
       "dtype: object"
      ]
     },
     "execution_count": 170,
     "metadata": {},
     "output_type": "execute_result"
    }
   ],
   "source": [
    "# Affiche le type des colonnes\n",
    "df.dtypes"
   ]
  },
  {
   "cell_type": "code",
   "execution_count": 171,
   "metadata": {},
   "outputs": [],
   "source": [
    "# Supprime '\\n' de la colonne 'copyright'\n",
    "df['copyright'] = df['copyright'].str.replace('\\n', '')\n",
    "\n",
    "# Remplace les valeurs nulles dans 'copyright'\n",
    "df['copyright'] = df['copyright'].fillna('No copyright')"
   ]
  },
  {
   "cell_type": "code",
   "execution_count": 176,
   "metadata": {},
   "outputs": [],
   "source": [
    "# Réorganise les colonnes\n",
    "df = df[\n",
    "    [\n",
    "        'date',\n",
    "        'title',\n",
    "        'explanation',\n",
    "        'media_type',\n",
    "        'copyright',\n",
    "        'url',\n",
    "        'hdurl',\n",
    "        'service_version'\n",
    "    ]\n",
    "]"
   ]
  },
  {
   "cell_type": "code",
   "execution_count": 179,
   "metadata": {},
   "outputs": [],
   "source": [
    "# Exporte le DataFrame dans un fichier 'csv'\n",
    "df.to_csv('./csv/apod.csv', index=False)"
   ]
  },
  {
   "cell_type": "markdown",
   "metadata": {},
   "source": [
    "## Mise à jour du fichier CSV à partir d'un JSON"
   ]
  }
 ],
 "metadata": {
  "kernelspec": {
   "display_name": "pp-env",
   "language": "python",
   "name": "python3"
  },
  "language_info": {
   "codemirror_mode": {
    "name": "ipython",
    "version": 3
   },
   "file_extension": ".py",
   "mimetype": "text/x-python",
   "name": "python",
   "nbconvert_exporter": "python",
   "pygments_lexer": "ipython3",
   "version": "3.12.0"
  }
 },
 "nbformat": 4,
 "nbformat_minor": 2
}
